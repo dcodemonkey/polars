{
 "cells": [
  {
   "cell_type": "markdown",
   "id": "e90fb7c3",
   "metadata": {},
   "source": [
    "Conversion of Pandas to Numpy\n",
    "\n",
    "1. convert between polars and Numpy\n",
    "2. convert between polars and Pandas\n",
    "\n",
    "Key functionalities in this in this notebook:\n",
    "- Your pandas version requires version is 2.0+(automated testing is carried out with the latest version of Pandas on PyPi)\n",
    "\n",
    "Use pl.show_versions() to check the version of polars you are using.\n",
    "\n",
    "\n"
   ]
  },
  {
   "cell_type": "code",
   "execution_count": 3,
   "id": "33db500e",
   "metadata": {},
   "outputs": [],
   "source": [
    "import polars as pl \n",
    "import numpy as np\n",
    "import pandas as pd"
   ]
  },
  {
   "cell_type": "code",
   "execution_count": 7,
   "id": "8b7c2183",
   "metadata": {},
   "outputs": [],
   "source": [
    "csv_file= './Files/Sample_Superstore.csv'"
   ]
  },
  {
   "cell_type": "code",
   "execution_count": 8,
   "id": "f739fe5f",
   "metadata": {},
   "outputs": [],
   "source": [
    "df = pl.read_csv(csv_file)"
   ]
  },
  {
   "cell_type": "code",
   "execution_count": 9,
   "id": "a901c92b",
   "metadata": {},
   "outputs": [
    {
     "data": {
      "text/html": [
       "<div><style>\n",
       ".dataframe > thead > tr,\n",
       ".dataframe > tbody > tr {\n",
       "  text-align: right;\n",
       "  white-space: pre-wrap;\n",
       "}\n",
       "</style>\n",
       "<small>shape: (5, 21)</small><table border=\"1\" class=\"dataframe\"><thead><tr><th>Row_ID</th><th>Order_ID</th><th>Order_Date</th><th>Ship_Date</th><th>Ship_Mode</th><th>Customer_ID</th><th>Customer_Name</th><th>Segment</th><th>Country</th><th>City</th><th>State</th><th>Postal_Code</th><th>Region</th><th>Product_ID</th><th>Category</th><th>Sub_Category</th><th>Product_Name</th><th>Sales</th><th>Quantity</th><th>Discount</th><th>Profit</th></tr><tr><td>i64</td><td>str</td><td>str</td><td>str</td><td>str</td><td>str</td><td>str</td><td>str</td><td>str</td><td>str</td><td>str</td><td>i64</td><td>str</td><td>str</td><td>str</td><td>str</td><td>str</td><td>f64</td><td>i64</td><td>f64</td><td>f64</td></tr></thead><tbody><tr><td>1</td><td>null</td><td>null</td><td>&quot;11-11-2016&quot;</td><td>&quot;Second Class&quot;</td><td>&quot;CG-12520&quot;</td><td>&quot;Claire Gute&quot;</td><td>&quot;Consumer&quot;</td><td>&quot;United States&quot;</td><td>&quot;Henderson&quot;</td><td>&quot;Kentucky&quot;</td><td>42420</td><td>&quot;South&quot;</td><td>&quot;FUR-BO-10001798&quot;</td><td>&quot;Furniture&quot;</td><td>&quot;Bookcases&quot;</td><td>&quot;Bush Somerset Collection Bookc…</td><td>261.96</td><td>2</td><td>0.0</td><td>41.9136</td></tr><tr><td>2</td><td>&quot;CA-2016-152156&quot;</td><td>&quot;08-11-2016&quot;</td><td>&quot;11-11-2016&quot;</td><td>&quot;Second Class&quot;</td><td>&quot;CG-12520&quot;</td><td>&quot;Claire Gute&quot;</td><td>&quot;Consumer&quot;</td><td>&quot;United States&quot;</td><td>&quot;Henderson&quot;</td><td>&quot;Kentucky&quot;</td><td>42420</td><td>&quot;South&quot;</td><td>&quot;FUR-CH-10000454&quot;</td><td>&quot;Furniture&quot;</td><td>&quot;Chairs&quot;</td><td>&quot;Hon Deluxe Fabric Upholstered …</td><td>731.94</td><td>3</td><td>0.0</td><td>219.582</td></tr><tr><td>3</td><td>&quot;CA-2016-138688&quot;</td><td>&quot;12-06-2016&quot;</td><td>null</td><td>null</td><td>&quot;DV-13045&quot;</td><td>&quot;Darrin Van Huff&quot;</td><td>&quot;Corporate&quot;</td><td>null</td><td>&quot;Los Angeles&quot;</td><td>&quot;California&quot;</td><td>90036</td><td>&quot;West&quot;</td><td>&quot;OFF-LA-10000240&quot;</td><td>&quot;Office Supplies&quot;</td><td>&quot;Labels&quot;</td><td>&quot;Self-Adhesive Address Labels f…</td><td>14.62</td><td>2</td><td>0.0</td><td>6.8714</td></tr><tr><td>4</td><td>null</td><td>&quot;11-10-2015&quot;</td><td>null</td><td>&quot;Standard Class&quot;</td><td>&quot;SO-20335&quot;</td><td>&quot;Sean O&#x27;Donnell&quot;</td><td>&quot;Consumer&quot;</td><td>&quot;United States&quot;</td><td>&quot;Fort Lauderdale&quot;</td><td>&quot;Florida&quot;</td><td>33311</td><td>&quot;South&quot;</td><td>&quot;FUR-TA-10000577&quot;</td><td>&quot;Furniture&quot;</td><td>&quot;Tables&quot;</td><td>&quot;Bretford CR4500 Series Slim Re…</td><td>957.5775</td><td>5</td><td>0.45</td><td>-383.031</td></tr><tr><td>5</td><td>&quot;US-2015-108966&quot;</td><td>&quot;11-10-2015&quot;</td><td>&quot;18-10-2015&quot;</td><td>&quot;Standard Class&quot;</td><td>&quot;SO-20335&quot;</td><td>&quot;Sean O&#x27;Donnell&quot;</td><td>&quot;Consumer&quot;</td><td>&quot;United States&quot;</td><td>null</td><td>&quot;Florida&quot;</td><td>33311</td><td>&quot;South&quot;</td><td>&quot;OFF-ST-10000760&quot;</td><td>&quot;Office Supplies&quot;</td><td>&quot;Storage&quot;</td><td>&quot;Eldon Fold &#x27;N Roll Cart System&quot;</td><td>22.368</td><td>2</td><td>0.2</td><td>2.5164</td></tr></tbody></table></div>"
      ],
      "text/plain": [
       "shape: (5, 21)\n",
       "┌────────┬───────────────┬────────────┬────────────┬───┬──────────┬──────────┬──────────┬──────────┐\n",
       "│ Row_ID ┆ Order_ID      ┆ Order_Date ┆ Ship_Date  ┆ … ┆ Sales    ┆ Quantity ┆ Discount ┆ Profit   │\n",
       "│ ---    ┆ ---           ┆ ---        ┆ ---        ┆   ┆ ---      ┆ ---      ┆ ---      ┆ ---      │\n",
       "│ i64    ┆ str           ┆ str        ┆ str        ┆   ┆ f64      ┆ i64      ┆ f64      ┆ f64      │\n",
       "╞════════╪═══════════════╪════════════╪════════════╪═══╪══════════╪══════════╪══════════╪══════════╡\n",
       "│ 1      ┆ null          ┆ null       ┆ 11-11-2016 ┆ … ┆ 261.96   ┆ 2        ┆ 0.0      ┆ 41.9136  │\n",
       "│ 2      ┆ CA-2016-15215 ┆ 08-11-2016 ┆ 11-11-2016 ┆ … ┆ 731.94   ┆ 3        ┆ 0.0      ┆ 219.582  │\n",
       "│        ┆ 6             ┆            ┆            ┆   ┆          ┆          ┆          ┆          │\n",
       "│ 3      ┆ CA-2016-13868 ┆ 12-06-2016 ┆ null       ┆ … ┆ 14.62    ┆ 2        ┆ 0.0      ┆ 6.8714   │\n",
       "│        ┆ 8             ┆            ┆            ┆   ┆          ┆          ┆          ┆          │\n",
       "│ 4      ┆ null          ┆ 11-10-2015 ┆ null       ┆ … ┆ 957.5775 ┆ 5        ┆ 0.45     ┆ -383.031 │\n",
       "│ 5      ┆ US-2015-10896 ┆ 11-10-2015 ┆ 18-10-2015 ┆ … ┆ 22.368   ┆ 2        ┆ 0.2      ┆ 2.5164   │\n",
       "│        ┆ 6             ┆            ┆            ┆   ┆          ┆          ┆          ┆          │\n",
       "└────────┴───────────────┴────────────┴────────────┴───┴──────────┴──────────┴──────────┴──────────┘"
      ]
     },
     "execution_count": 9,
     "metadata": {},
     "output_type": "execute_result"
    }
   ],
   "source": [
    "df.head(5)"
   ]
  },
  {
   "cell_type": "markdown",
   "id": "9756815b",
   "metadata": {},
   "source": [
    "Convert a DataFrame to Numpy\n",
    "\n",
    "To convert a DataFrame to a Numpy array, you can use the `to_numpy` method. This will return a Numpy array representation of the DataFrame and this clones(copies) the data.\n"
   ]
  },
  {
   "cell_type": "code",
   "execution_count": 10,
   "id": "53a88dd7",
   "metadata": {},
   "outputs": [],
   "source": [
    "arr = df.to_numpy()"
   ]
  },
  {
   "cell_type": "code",
   "execution_count": 20,
   "id": "9bedfa58",
   "metadata": {},
   "outputs": [
    {
     "data": {
      "text/plain": [
       "array([[1, None, None, ..., 2, 0.0, 41.9136],\n",
       "       [2, 'CA-2016-152156', '08-11-2016', ..., 3, 0.0, 219.582],\n",
       "       [3, 'CA-2016-138688', '12-06-2016', ..., 2, 0.0, 6.8714],\n",
       "       ...,\n",
       "       [9992, 'CA-2017-121258', '26-02-2017', ..., 2, 0.2, 19.3932],\n",
       "       [9993, 'CA-2017-121258', '26-02-2017', ..., 4, 0.0, 13.32],\n",
       "       [9994, 'CA-2017-119914', '04-05-2017', ..., 2, 0.0, 72.948]],\n",
       "      shape=(9994, 21), dtype=object)"
      ]
     },
     "execution_count": 20,
     "metadata": {},
     "output_type": "execute_result"
    }
   ],
   "source": [
    "arr"
   ]
  },
  {
   "cell_type": "markdown",
   "id": "8c59b7e3",
   "metadata": {},
   "source": [
    "This conversion turns each row into a Numpy \"ndarray\" and vertically stacks these row-arrays.\n",
    "\n",
    "As the Dataframe has a mix of data types, the Numpy array has the corresponding dtype."
   ]
  },
  {
   "cell_type": "markdown",
   "id": "f4ccaf4f",
   "metadata": {},
   "source": [
    "In this example, we use select to chose the 64-bit floating point columns only for conversion to Numpy..\n",
    "\n",
    "     - We cover 'select' in more detail in the Section on Selecting columns and transforming DataFrames.\n",
    "     "
   ]
  },
  {
   "cell_type": "code",
   "execution_count": 32,
   "id": "2aac9449",
   "metadata": {},
   "outputs": [],
   "source": [
    "float_array = (\n",
    "    df.select(pl.col(pl.Float64)).to_numpy()\n",
    ")"
   ]
  },
  {
   "cell_type": "code",
   "execution_count": 33,
   "id": "9cfdfa56",
   "metadata": {},
   "outputs": [
    {
     "data": {
      "text/plain": [
       "numpy.ndarray"
      ]
     },
     "execution_count": 33,
     "metadata": {},
     "output_type": "execute_result"
    }
   ],
   "source": [
    "type(float_array)"
   ]
  },
  {
   "cell_type": "code",
   "execution_count": 24,
   "id": "154b1114",
   "metadata": {},
   "outputs": [
    {
     "data": {
      "text/plain": [
       "dtype('float64')"
      ]
     },
     "execution_count": 24,
     "metadata": {},
     "output_type": "execute_result"
    }
   ],
   "source": [
    "float_array.dtype"
   ]
  },
  {
   "cell_type": "markdown",
   "id": "f3fa26ce",
   "metadata": {},
   "source": [
    "The Polars sequence dtypes pl.list and pl.Array are common way to store sequences that might be passed to Numpy."
   ]
  },
  {
   "cell_type": "markdown",
   "id": "4fefd9a3",
   "metadata": {},
   "source": [
    "Convert Numpy to a DataFrame\n",
    "\n",
    "We can create a Polars DataFrame from a Numpy array using the `from_numpy` method. This will create a DataFrame with the same data as the Numpy array."
   ]
  },
  {
   "cell_type": "code",
   "execution_count": 34,
   "id": "64fae842",
   "metadata": {},
   "outputs": [],
   "source": [
    "data_list = float_array.tolist()\n",
    "\n",
    "df = pl.DataFrame(data_list)"
   ]
  },
  {
   "cell_type": "code",
   "execution_count": 35,
   "id": "500df789",
   "metadata": {},
   "outputs": [
    {
     "data": {
      "text/html": [
       "<div><style>\n",
       ".dataframe > thead > tr,\n",
       ".dataframe > tbody > tr {\n",
       "  text-align: right;\n",
       "  white-space: pre-wrap;\n",
       "}\n",
       "</style>\n",
       "<small>shape: (9_994, 3)</small><table border=\"1\" class=\"dataframe\"><thead><tr><th>column_0</th><th>column_1</th><th>column_2</th></tr><tr><td>f64</td><td>f64</td><td>f64</td></tr></thead><tbody><tr><td>261.96</td><td>0.0</td><td>41.9136</td></tr><tr><td>731.94</td><td>0.0</td><td>219.582</td></tr><tr><td>14.62</td><td>0.0</td><td>6.8714</td></tr><tr><td>957.5775</td><td>0.45</td><td>-383.031</td></tr><tr><td>22.368</td><td>0.2</td><td>2.5164</td></tr><tr><td>&hellip;</td><td>&hellip;</td><td>&hellip;</td></tr><tr><td>25.248</td><td>0.2</td><td>4.1028</td></tr><tr><td>91.96</td><td>0.0</td><td>15.6332</td></tr><tr><td>258.576</td><td>0.2</td><td>19.3932</td></tr><tr><td>29.6</td><td>0.0</td><td>13.32</td></tr><tr><td>243.16</td><td>0.0</td><td>72.948</td></tr></tbody></table></div>"
      ],
      "text/plain": [
       "shape: (9_994, 3)\n",
       "┌──────────┬──────────┬──────────┐\n",
       "│ column_0 ┆ column_1 ┆ column_2 │\n",
       "│ ---      ┆ ---      ┆ ---      │\n",
       "│ f64      ┆ f64      ┆ f64      │\n",
       "╞══════════╪══════════╪══════════╡\n",
       "│ 261.96   ┆ 0.0      ┆ 41.9136  │\n",
       "│ 731.94   ┆ 0.0      ┆ 219.582  │\n",
       "│ 14.62    ┆ 0.0      ┆ 6.8714   │\n",
       "│ 957.5775 ┆ 0.45     ┆ -383.031 │\n",
       "│ 22.368   ┆ 0.2      ┆ 2.5164   │\n",
       "│ …        ┆ …        ┆ …        │\n",
       "│ 25.248   ┆ 0.2      ┆ 4.1028   │\n",
       "│ 91.96    ┆ 0.0      ┆ 15.6332  │\n",
       "│ 258.576  ┆ 0.2      ┆ 19.3932  │\n",
       "│ 29.6     ┆ 0.0      ┆ 13.32    │\n",
       "│ 243.16   ┆ 0.0      ┆ 72.948   │\n",
       "└──────────┴──────────┴──────────┘"
      ]
     },
     "execution_count": 35,
     "metadata": {},
     "output_type": "execute_result"
    }
   ],
   "source": [
    "df"
   ]
  },
  {
   "cell_type": "code",
   "execution_count": 27,
   "id": "5297ae2a",
   "metadata": {},
   "outputs": [
    {
     "data": {
      "text/plain": [
       "polars.dataframe.frame.DataFrame"
      ]
     },
     "execution_count": 27,
     "metadata": {},
     "output_type": "execute_result"
    }
   ],
   "source": [
    "type(df)"
   ]
  },
  {
   "cell_type": "code",
   "execution_count": 39,
   "id": "7af3753d",
   "metadata": {},
   "outputs": [],
   "source": [
    "df = df.rename({\"column_2\": \"Profit\"})"
   ]
  },
  {
   "cell_type": "markdown",
   "id": "2eb97025",
   "metadata": {},
   "source": [
    "Convert a `Series` to `Numpy`\n",
    "\n",
    "Converting a `Series` to `Numpy` has more options that converting an entire DataFrame. You can use the `to_numpy` method to convert a Series to a Numpy array. This will return a Numpy array representation of the Series and this clones(copies) the data."
   ]
  },
  {
   "cell_type": "code",
   "execution_count": 42,
   "id": "60bc3a60",
   "metadata": {},
   "outputs": [
    {
     "data": {
      "text/plain": [
       "array([  41.9136,  219.582 ,    6.8714, -383.031 ,    2.5164,   14.1694,\n",
       "          1.9656,   90.7152,    5.7825,   34.47  ])"
      ]
     },
     "execution_count": 42,
     "metadata": {},
     "output_type": "execute_result"
    }
   ],
   "source": [
    "(\n",
    "    df['Profit']\n",
    "    .head()\n",
    "    .to_numpy()\n",
    ")"
   ]
  },
  {
   "cell_type": "markdown",
   "id": "b50bc627",
   "metadata": {},
   "source": [
    "And here we get the same output as above, but with the column renamed to \"Profit\".\n",
    "\n",
    "Convert a `Series` to a Numpy with Zero-copy\n",
    "\n",
    "in some cases we can convert a Series to a Numpy array without copying(Zero-copy). \n",
    "\n",
    "Zero-copy is only posssible if there is no null or NaN values such as in the `Survived` column. If we want to ensure that the conversion to Numpy happens with Zero-copy and raise an `Exception` if a copy is needed - we use the allow_copy=False argument.\n",
    "\n",
    "```python\n",
    "(\n",
    "    df['Survived']\n",
    "    .head()\n",
    "    .to_numpy(allow_copy=False)\n",
    ") \n",
    "\n",
    "```python"
   ]
  },
  {
   "cell_type": "code",
   "execution_count": 43,
   "id": "7c807e08",
   "metadata": {},
   "outputs": [
    {
     "data": {
      "text/plain": [
       "array([  41.9136,  219.582 ,    6.8714, -383.031 ,    2.5164,   14.1694,\n",
       "          1.9656,   90.7152,    5.7825,   34.47  ])"
      ]
     },
     "execution_count": 43,
     "metadata": {},
     "output_type": "execute_result"
    }
   ],
   "source": [
    "arr = (\n",
    "    df['Profit']\n",
    "    .head()\n",
    "    .to_numpy(allow_copy=False)\n",
    ")\n",
    "\n",
    "arr"
   ]
  },
  {
   "cell_type": "markdown",
   "id": "539eeab3",
   "metadata": {},
   "source": [
    "With Zero-copy conversion the numpy array os read-only so we cannot change the values in the Numpy array. If we try to change the values, we will get a `ValueError`."
   ]
  },
  {
   "cell_type": "markdown",
   "id": "d1adad9b",
   "metadata": {},
   "source": [
    "Numerical dtypes and precision\n",
    "Introduction\n",
    "\n",
    "\n",
    "Polars provides efficient handling of numerical data types to optimize performance and memory usage. Understanding numerical data types (dtypes) and precision is important when working with large datasets.\n",
    "\n",
    "In this lecture, we will cover:\n",
    "✅ Different numerical data types in Polars\n",
    "✅ Controlling precision for floating-point numbers\n",
    "✅ Changing numerical data types\n",
    "\n",
    "\n",
    "\n",
    "Step 1: Checking Numerical Data Types in Polars\n",
    "Let's create a sample DataFrame and inspect its data types:\n",
    "\n",
    "\n",
    "\n",
    "```python\n",
    " \n",
    "import polars as pl\n",
    " \n",
    "df = pl.DataFrame({\n",
    "    \"integer_column\": [1, 2, 3, 4, 5],  # Default: Int64\n",
    "    \"float_column\": [1.1, 2.2, 3.3, 4.4, 5.5]  # Default: Float64\n",
    "})\n",
    " \n",
    "print(\"DataFrame:\")\n",
    "print(df)\n",
    " \n",
    "print(\"\\nData Types:\")\n",
    "print(df.schema)\n",
    "\n",
    "\n",
    "Output:\n",
    "shape: (5, 2)\n",
    "┌───────────────┬─────────────┐\n",
    "│ integer_column│ float_column│\n",
    "├───────────────┼─────────────┤\n",
    "│ 1             │ 1.1         │\n",
    "│ 2             │ 2.2         │\n",
    "│ 3             │ 3.3         │\n",
    "│ 4             │ 4.4         │\n",
    "│ 5             │ 5.5         │\n",
    "└───────────────┴─────────────┘\n",
    " \n",
    "{'integer_column': Int64, 'float_column': Float64}\n",
    "\n",
    "```\n",
    "\n",
    "\n",
    "Step 2: Numerical Data Types in Polars\n",
    "Polars supports several integer and floating-point types:\n",
    "\n",
    "\n",
    "\n",
    "Integer Types\n",
    "\n",
    "\n",
    "Data TypeDescriptionInt88-bit integer (-128 to 127)Int1616-bit integer (-32,768 to 32,767)Int3232-bit integer (-2.1 billion to 2.1 billion)Int6464-bit integer (default)\n",
    "\n",
    "\n",
    "\n",
    "Unsigned Integer Types\n",
    "\n",
    "\n",
    "Data TypeDescriptionUInt88-bit unsigned integer (0 to 255)UInt1616-bit unsigned integer (0 to 65,535)UInt3232-bit unsigned integerUInt6464-bit unsigned integer\n",
    "\n",
    "\n",
    "\n",
    "Floating-Point Types\n",
    "\n",
    "\n",
    "Data TypeDescriptionFloat3232-bit floating point (single precision)Float6464-bit floating point (double precision, default)\n",
    "\n",
    "\n",
    "\n",
    "Step 3: Changing Numerical Data Types\n",
    "You can convert data types using .cast():\n",
    "\n",
    "\n",
    "\n",
    "```python\n",
    " \n",
    "df = df.with_columns([\n",
    "    df[\"integer_column\"].cast(pl.Int32),\n",
    "    df[\"float_column\"].cast(pl.Float32)\n",
    "])\n",
    " \n",
    "print(\"\\nUpdated Data Types:\")\n",
    "print(df.schema)\n",
    "\n",
    "\n",
    "Output:\n",
    "\n",
    "\n",
    "\n",
    "{'integer_column': Int32, 'float_column': Float32}\n",
    "\n",
    "```\n",
    "\n",
    "\n",
    "Step 4: Controlling Floating-Point Precision\n",
    "\n",
    "\n",
    "By default, Polars uses Float64, but you can reduce precision to save memory:\n",
    "\n",
    "\n",
    "\n",
    "```python\n",
    " \n",
    "df = df.with_columns(\n",
    "    df[\"float_column\"].cast(pl.Float32)\n",
    ")\n",
    " \n",
    "print(\"\\nUpdated Float Column Type:\")\n",
    "print(df.schema)\n",
    "\n",
    "```\n",
    "\n",
    "\n",
    "If you need higher precision, keep it as Float64.\n",
    "\n",
    "\n",
    "\n",
    "Step 5: Handling Large Numbers and Overflow\n",
    "For very large numbers, use Int64 or UInt64:\n",
    "\n",
    "\n",
    "\n",
    "```python\n",
    " \n",
    "df_large = pl.DataFrame({\n",
    "    \"big_number\": [10**12, 10**13, 10**14]  # Large integers\n",
    "}).with_columns(pl.col(\"big_number\").cast(pl.Int64))\n",
    " \n",
    "print(\"\\nLarge Number Data Types:\")\n",
    "print(df_large.schema)\n",
    "```\n",
    "\n",
    "\n",
    "⚠️ Beware of Overflow:\n",
    "If you store large values in Int8 or Int16, you might get unexpected results.\n",
    "\n",
    "\n",
    "\n",
    "Step 6: Avoiding Precision Loss in Calculations\n",
    "```\n",
    "python\n",
    " \n",
    "df = df.with_columns(\n",
    "    (df[\"float_column\"] * 3.14159).alias(\"pi_multiplication\")\n",
    ")\n",
    " \n",
    "print(\"\\nResult with Precision:\")\n",
    "print(df)\n",
    "```\n",
    "\n",
    "\n",
    "If exact precision is needed, use Float64.\n",
    "\n",
    "\n",
    "\n",
    "Conclusion\n",
    "\n",
    "\n",
    "✅ Polars provides multiple integer and floating-point types\n",
    "✅ Use .cast() to change numerical types\n",
    "✅ Reduce precision (Float32) for memory efficiency or keep Float64 for accuracy\n",
    "✅ Be mindful of integer overflows\n",
    "\n",
    "\n",
    "\n",
    "Now you can manage numerical data types efficiently in Polars! 🚀"
   ]
  },
  {
   "cell_type": "markdown",
   "id": "d0ab43c9",
   "metadata": {},
   "source": []
  }
 ],
 "metadata": {
  "kernelspec": {
   "display_name": "polar_venv",
   "language": "python",
   "name": "python3"
  },
  "language_info": {
   "codemirror_mode": {
    "name": "ipython",
    "version": 3
   },
   "file_extension": ".py",
   "mimetype": "text/x-python",
   "name": "python",
   "nbconvert_exporter": "python",
   "pygments_lexer": "ipython3",
   "version": "3.13.5"
  }
 },
 "nbformat": 4,
 "nbformat_minor": 5
}
