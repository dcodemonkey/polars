{
 "cells": [
  {
   "cell_type": "markdown",
   "id": "e2202827-ba9f-432a-81c2-0bb92bdc9a5f",
   "metadata": {},
   "source": [
    "***Reading a CSV File***"
   ]
  },
  {
   "cell_type": "code",
   "execution_count": 2,
   "id": "d5ba0b2a-6f9b-4d98-8c4d-a94ac31484c6",
   "metadata": {},
   "outputs": [],
   "source": [
    "import polars as pl"
   ]
  },
  {
   "cell_type": "code",
   "execution_count": 10,
   "id": "9a585744-2190-422c-a764-079b08de7a63",
   "metadata": {},
   "outputs": [],
   "source": [
    "csv_path = './Files/Sample_Superstore.csv'"
   ]
  },
  {
   "cell_type": "code",
   "execution_count": 11,
   "id": "32fa518d-9c9d-498d-957b-eb912b506f85",
   "metadata": {},
   "outputs": [
    {
     "name": "stdout",
     "output_type": "stream",
     "text": [
      "shape: (9_994, 21)\n",
      "┌────────┬───────────────┬────────────┬────────────┬───┬──────────┬──────────┬──────────┬──────────┐\n",
      "│ Row_ID ┆ Order_ID      ┆ Order_Date ┆ Ship_Date  ┆ … ┆ Sales    ┆ Quantity ┆ Discount ┆ Profit   │\n",
      "│ ---    ┆ ---           ┆ ---        ┆ ---        ┆   ┆ ---      ┆ ---      ┆ ---      ┆ ---      │\n",
      "│ i64    ┆ str           ┆ str        ┆ str        ┆   ┆ f64      ┆ i64      ┆ f64      ┆ f64      │\n",
      "╞════════╪═══════════════╪════════════╪════════════╪═══╪══════════╪══════════╪══════════╪══════════╡\n",
      "│ 1      ┆ null          ┆ null       ┆ 11-11-2016 ┆ … ┆ 261.96   ┆ 2        ┆ 0.0      ┆ 41.9136  │\n",
      "│ 2      ┆ CA-2016-15215 ┆ 08-11-2016 ┆ 11-11-2016 ┆ … ┆ 731.94   ┆ 3        ┆ 0.0      ┆ 219.582  │\n",
      "│        ┆ 6             ┆            ┆            ┆   ┆          ┆          ┆          ┆          │\n",
      "│ 3      ┆ CA-2016-13868 ┆ 12-06-2016 ┆ null       ┆ … ┆ 14.62    ┆ 2        ┆ 0.0      ┆ 6.8714   │\n",
      "│        ┆ 8             ┆            ┆            ┆   ┆          ┆          ┆          ┆          │\n",
      "│ 4      ┆ null          ┆ 11-10-2015 ┆ null       ┆ … ┆ 957.5775 ┆ 5        ┆ 0.45     ┆ -383.031 │\n",
      "│ 5      ┆ US-2015-10896 ┆ 11-10-2015 ┆ 18-10-2015 ┆ … ┆ 22.368   ┆ 2        ┆ 0.2      ┆ 2.5164   │\n",
      "│        ┆ 6             ┆            ┆            ┆   ┆          ┆          ┆          ┆          │\n",
      "│ …      ┆ …             ┆ …          ┆ …          ┆ … ┆ …        ┆ …        ┆ …        ┆ …        │\n",
      "│ 9990   ┆ CA-2014-11042 ┆ 21-01-2014 ┆ 23-01-2014 ┆ … ┆ 25.248   ┆ 3        ┆ 0.2      ┆ 4.1028   │\n",
      "│        ┆ 2             ┆            ┆            ┆   ┆          ┆          ┆          ┆          │\n",
      "│ 9991   ┆ CA-2017-12125 ┆ 26-02-2017 ┆ 03-03-2017 ┆ … ┆ 91.96    ┆ 2        ┆ 0.0      ┆ 15.6332  │\n",
      "│        ┆ 8             ┆            ┆            ┆   ┆          ┆          ┆          ┆          │\n",
      "│ 9992   ┆ CA-2017-12125 ┆ 26-02-2017 ┆ 03-03-2017 ┆ … ┆ 258.576  ┆ 2        ┆ 0.2      ┆ 19.3932  │\n",
      "│        ┆ 8             ┆            ┆            ┆   ┆          ┆          ┆          ┆          │\n",
      "│ 9993   ┆ CA-2017-12125 ┆ 26-02-2017 ┆ 03-03-2017 ┆ … ┆ 29.6     ┆ 4        ┆ 0.0      ┆ 13.32    │\n",
      "│        ┆ 8             ┆            ┆            ┆   ┆          ┆          ┆          ┆          │\n",
      "│ 9994   ┆ CA-2017-11991 ┆ 04-05-2017 ┆ 09-05-2017 ┆ … ┆ 243.16   ┆ 2        ┆ 0.0      ┆ 72.948   │\n",
      "│        ┆ 4             ┆            ┆            ┆   ┆          ┆          ┆          ┆          │\n",
      "└────────┴───────────────┴────────────┴────────────┴───┴──────────┴──────────┴──────────┴──────────┘\n"
     ]
    }
   ],
   "source": [
    "\n",
    "# Read CSV file\n",
    "csv_df = pl.read_csv(csv_path)\n",
    "\n",
    "# Display the DataFrame\n",
    "print(csv_df)\n"
   ]
  },
  {
   "cell_type": "code",
   "execution_count": 12,
   "id": "710e6a45-c9cd-42e4-845a-ee7302dc0ca5",
   "metadata": {},
   "outputs": [
    {
     "data": {
      "text/html": [
       "<div><style>\n",
       ".dataframe > thead > tr,\n",
       ".dataframe > tbody > tr {\n",
       "  text-align: right;\n",
       "  white-space: pre-wrap;\n",
       "}\n",
       "</style>\n",
       "<small>shape: (5, 21)</small><table border=\"1\" class=\"dataframe\"><thead><tr><th>Row_ID</th><th>Order_ID</th><th>Order_Date</th><th>Ship_Date</th><th>Ship_Mode</th><th>Customer_ID</th><th>Customer_Name</th><th>Segment</th><th>Country</th><th>City</th><th>State</th><th>Postal_Code</th><th>Region</th><th>Product_ID</th><th>Category</th><th>Sub_Category</th><th>Product_Name</th><th>Sales</th><th>Quantity</th><th>Discount</th><th>Profit</th></tr><tr><td>i64</td><td>str</td><td>str</td><td>str</td><td>str</td><td>str</td><td>str</td><td>str</td><td>str</td><td>str</td><td>str</td><td>i64</td><td>str</td><td>str</td><td>str</td><td>str</td><td>str</td><td>f64</td><td>i64</td><td>f64</td><td>f64</td></tr></thead><tbody><tr><td>1</td><td>null</td><td>null</td><td>&quot;11-11-2016&quot;</td><td>&quot;Second Class&quot;</td><td>&quot;CG-12520&quot;</td><td>&quot;Claire Gute&quot;</td><td>&quot;Consumer&quot;</td><td>&quot;United States&quot;</td><td>&quot;Henderson&quot;</td><td>&quot;Kentucky&quot;</td><td>42420</td><td>&quot;South&quot;</td><td>&quot;FUR-BO-10001798&quot;</td><td>&quot;Furniture&quot;</td><td>&quot;Bookcases&quot;</td><td>&quot;Bush Somerset Collection Bookc…</td><td>261.96</td><td>2</td><td>0.0</td><td>41.9136</td></tr><tr><td>2</td><td>&quot;CA-2016-152156&quot;</td><td>&quot;08-11-2016&quot;</td><td>&quot;11-11-2016&quot;</td><td>&quot;Second Class&quot;</td><td>&quot;CG-12520&quot;</td><td>&quot;Claire Gute&quot;</td><td>&quot;Consumer&quot;</td><td>&quot;United States&quot;</td><td>&quot;Henderson&quot;</td><td>&quot;Kentucky&quot;</td><td>42420</td><td>&quot;South&quot;</td><td>&quot;FUR-CH-10000454&quot;</td><td>&quot;Furniture&quot;</td><td>&quot;Chairs&quot;</td><td>&quot;Hon Deluxe Fabric Upholstered …</td><td>731.94</td><td>3</td><td>0.0</td><td>219.582</td></tr><tr><td>3</td><td>&quot;CA-2016-138688&quot;</td><td>&quot;12-06-2016&quot;</td><td>null</td><td>null</td><td>&quot;DV-13045&quot;</td><td>&quot;Darrin Van Huff&quot;</td><td>&quot;Corporate&quot;</td><td>null</td><td>&quot;Los Angeles&quot;</td><td>&quot;California&quot;</td><td>90036</td><td>&quot;West&quot;</td><td>&quot;OFF-LA-10000240&quot;</td><td>&quot;Office Supplies&quot;</td><td>&quot;Labels&quot;</td><td>&quot;Self-Adhesive Address Labels f…</td><td>14.62</td><td>2</td><td>0.0</td><td>6.8714</td></tr><tr><td>4</td><td>null</td><td>&quot;11-10-2015&quot;</td><td>null</td><td>&quot;Standard Class&quot;</td><td>&quot;SO-20335&quot;</td><td>&quot;Sean O&#x27;Donnell&quot;</td><td>&quot;Consumer&quot;</td><td>&quot;United States&quot;</td><td>&quot;Fort Lauderdale&quot;</td><td>&quot;Florida&quot;</td><td>33311</td><td>&quot;South&quot;</td><td>&quot;FUR-TA-10000577&quot;</td><td>&quot;Furniture&quot;</td><td>&quot;Tables&quot;</td><td>&quot;Bretford CR4500 Series Slim Re…</td><td>957.5775</td><td>5</td><td>0.45</td><td>-383.031</td></tr><tr><td>5</td><td>&quot;US-2015-108966&quot;</td><td>&quot;11-10-2015&quot;</td><td>&quot;18-10-2015&quot;</td><td>&quot;Standard Class&quot;</td><td>&quot;SO-20335&quot;</td><td>&quot;Sean O&#x27;Donnell&quot;</td><td>&quot;Consumer&quot;</td><td>&quot;United States&quot;</td><td>null</td><td>&quot;Florida&quot;</td><td>33311</td><td>&quot;South&quot;</td><td>&quot;OFF-ST-10000760&quot;</td><td>&quot;Office Supplies&quot;</td><td>&quot;Storage&quot;</td><td>&quot;Eldon Fold &#x27;N Roll Cart System&quot;</td><td>22.368</td><td>2</td><td>0.2</td><td>2.5164</td></tr></tbody></table></div>"
      ],
      "text/plain": [
       "shape: (5, 21)\n",
       "┌────────┬───────────────┬────────────┬────────────┬───┬──────────┬──────────┬──────────┬──────────┐\n",
       "│ Row_ID ┆ Order_ID      ┆ Order_Date ┆ Ship_Date  ┆ … ┆ Sales    ┆ Quantity ┆ Discount ┆ Profit   │\n",
       "│ ---    ┆ ---           ┆ ---        ┆ ---        ┆   ┆ ---      ┆ ---      ┆ ---      ┆ ---      │\n",
       "│ i64    ┆ str           ┆ str        ┆ str        ┆   ┆ f64      ┆ i64      ┆ f64      ┆ f64      │\n",
       "╞════════╪═══════════════╪════════════╪════════════╪═══╪══════════╪══════════╪══════════╪══════════╡\n",
       "│ 1      ┆ null          ┆ null       ┆ 11-11-2016 ┆ … ┆ 261.96   ┆ 2        ┆ 0.0      ┆ 41.9136  │\n",
       "│ 2      ┆ CA-2016-15215 ┆ 08-11-2016 ┆ 11-11-2016 ┆ … ┆ 731.94   ┆ 3        ┆ 0.0      ┆ 219.582  │\n",
       "│        ┆ 6             ┆            ┆            ┆   ┆          ┆          ┆          ┆          │\n",
       "│ 3      ┆ CA-2016-13868 ┆ 12-06-2016 ┆ null       ┆ … ┆ 14.62    ┆ 2        ┆ 0.0      ┆ 6.8714   │\n",
       "│        ┆ 8             ┆            ┆            ┆   ┆          ┆          ┆          ┆          │\n",
       "│ 4      ┆ null          ┆ 11-10-2015 ┆ null       ┆ … ┆ 957.5775 ┆ 5        ┆ 0.45     ┆ -383.031 │\n",
       "│ 5      ┆ US-2015-10896 ┆ 11-10-2015 ┆ 18-10-2015 ┆ … ┆ 22.368   ┆ 2        ┆ 0.2      ┆ 2.5164   │\n",
       "│        ┆ 6             ┆            ┆            ┆   ┆          ┆          ┆          ┆          │\n",
       "└────────┴───────────────┴────────────┴────────────┴───┴──────────┴──────────┴──────────┴──────────┘"
      ]
     },
     "execution_count": 12,
     "metadata": {},
     "output_type": "execute_result"
    }
   ],
   "source": [
    "csv_df.head(5)"
   ]
  },
  {
   "cell_type": "code",
   "execution_count": 13,
   "id": "962533dd-959d-4152-b29c-556ce01a2235",
   "metadata": {},
   "outputs": [
    {
     "data": {
      "text/html": [
       "<div><style>\n",
       ".dataframe > thead > tr,\n",
       ".dataframe > tbody > tr {\n",
       "  text-align: right;\n",
       "  white-space: pre-wrap;\n",
       "}\n",
       "</style>\n",
       "<small>shape: (5, 21)</small><table border=\"1\" class=\"dataframe\"><thead><tr><th>Row_ID</th><th>Order_ID</th><th>Order_Date</th><th>Ship_Date</th><th>Ship_Mode</th><th>Customer_ID</th><th>Customer_Name</th><th>Segment</th><th>Country</th><th>City</th><th>State</th><th>Postal_Code</th><th>Region</th><th>Product_ID</th><th>Category</th><th>Sub_Category</th><th>Product_Name</th><th>Sales</th><th>Quantity</th><th>Discount</th><th>Profit</th></tr><tr><td>i64</td><td>str</td><td>str</td><td>str</td><td>str</td><td>str</td><td>str</td><td>str</td><td>str</td><td>str</td><td>str</td><td>i64</td><td>str</td><td>str</td><td>str</td><td>str</td><td>str</td><td>f64</td><td>i64</td><td>f64</td><td>f64</td></tr></thead><tbody><tr><td>9990</td><td>&quot;CA-2014-110422&quot;</td><td>&quot;21-01-2014&quot;</td><td>&quot;23-01-2014&quot;</td><td>&quot;Second Class&quot;</td><td>&quot;TB-21400&quot;</td><td>&quot;Tom Boeckenhauer&quot;</td><td>&quot;Consumer&quot;</td><td>&quot;United States&quot;</td><td>&quot;Miami&quot;</td><td>&quot;Florida&quot;</td><td>33180</td><td>&quot;South&quot;</td><td>&quot;FUR-FU-10001889&quot;</td><td>&quot;Furniture&quot;</td><td>&quot;Furnishings&quot;</td><td>&quot;Ultra Door Pull Handle&quot;</td><td>25.248</td><td>3</td><td>0.2</td><td>4.1028</td></tr><tr><td>9991</td><td>&quot;CA-2017-121258&quot;</td><td>&quot;26-02-2017&quot;</td><td>&quot;03-03-2017&quot;</td><td>&quot;Standard Class&quot;</td><td>&quot;DB-13060&quot;</td><td>&quot;Dave Brooks&quot;</td><td>&quot;Consumer&quot;</td><td>&quot;United States&quot;</td><td>&quot;Costa Mesa&quot;</td><td>&quot;California&quot;</td><td>92627</td><td>&quot;West&quot;</td><td>&quot;FUR-FU-10000747&quot;</td><td>&quot;Furniture&quot;</td><td>&quot;Furnishings&quot;</td><td>&quot;Tenex B1-RE Series Chair Mats …</td><td>91.96</td><td>2</td><td>0.0</td><td>15.6332</td></tr><tr><td>9992</td><td>&quot;CA-2017-121258&quot;</td><td>&quot;26-02-2017&quot;</td><td>&quot;03-03-2017&quot;</td><td>&quot;Standard Class&quot;</td><td>&quot;DB-13060&quot;</td><td>&quot;Dave Brooks&quot;</td><td>&quot;Consumer&quot;</td><td>&quot;United States&quot;</td><td>&quot;Costa Mesa&quot;</td><td>&quot;California&quot;</td><td>92627</td><td>&quot;West&quot;</td><td>&quot;TEC-PH-10003645&quot;</td><td>&quot;Technology&quot;</td><td>&quot;Phones&quot;</td><td>&quot;Aastra 57i VoIP phone&quot;</td><td>258.576</td><td>2</td><td>0.2</td><td>19.3932</td></tr><tr><td>9993</td><td>&quot;CA-2017-121258&quot;</td><td>&quot;26-02-2017&quot;</td><td>&quot;03-03-2017&quot;</td><td>&quot;Standard Class&quot;</td><td>&quot;DB-13060&quot;</td><td>&quot;Dave Brooks&quot;</td><td>&quot;Consumer&quot;</td><td>&quot;United States&quot;</td><td>&quot;Costa Mesa&quot;</td><td>&quot;California&quot;</td><td>92627</td><td>&quot;West&quot;</td><td>&quot;OFF-PA-10004041&quot;</td><td>&quot;Office Supplies&quot;</td><td>&quot;Paper&quot;</td><td>&quot;It&#x27;s Hot Message Books with St…</td><td>29.6</td><td>4</td><td>0.0</td><td>13.32</td></tr><tr><td>9994</td><td>&quot;CA-2017-119914&quot;</td><td>&quot;04-05-2017&quot;</td><td>&quot;09-05-2017&quot;</td><td>&quot;Second Class&quot;</td><td>&quot;CC-12220&quot;</td><td>&quot;Chris Cortes&quot;</td><td>&quot;Consumer&quot;</td><td>&quot;United States&quot;</td><td>&quot;Westminster&quot;</td><td>&quot;California&quot;</td><td>92683</td><td>&quot;West&quot;</td><td>&quot;OFF-AP-10002684&quot;</td><td>&quot;Office Supplies&quot;</td><td>&quot;Appliances&quot;</td><td>&quot;Acco 7-Outlet Masterpiece Powe…</td><td>243.16</td><td>2</td><td>0.0</td><td>72.948</td></tr></tbody></table></div>"
      ],
      "text/plain": [
       "shape: (5, 21)\n",
       "┌────────┬────────────────┬────────────┬────────────┬───┬─────────┬──────────┬──────────┬─────────┐\n",
       "│ Row_ID ┆ Order_ID       ┆ Order_Date ┆ Ship_Date  ┆ … ┆ Sales   ┆ Quantity ┆ Discount ┆ Profit  │\n",
       "│ ---    ┆ ---            ┆ ---        ┆ ---        ┆   ┆ ---     ┆ ---      ┆ ---      ┆ ---     │\n",
       "│ i64    ┆ str            ┆ str        ┆ str        ┆   ┆ f64     ┆ i64      ┆ f64      ┆ f64     │\n",
       "╞════════╪════════════════╪════════════╪════════════╪═══╪═════════╪══════════╪══════════╪═════════╡\n",
       "│ 9990   ┆ CA-2014-110422 ┆ 21-01-2014 ┆ 23-01-2014 ┆ … ┆ 25.248  ┆ 3        ┆ 0.2      ┆ 4.1028  │\n",
       "│ 9991   ┆ CA-2017-121258 ┆ 26-02-2017 ┆ 03-03-2017 ┆ … ┆ 91.96   ┆ 2        ┆ 0.0      ┆ 15.6332 │\n",
       "│ 9992   ┆ CA-2017-121258 ┆ 26-02-2017 ┆ 03-03-2017 ┆ … ┆ 258.576 ┆ 2        ┆ 0.2      ┆ 19.3932 │\n",
       "│ 9993   ┆ CA-2017-121258 ┆ 26-02-2017 ┆ 03-03-2017 ┆ … ┆ 29.6    ┆ 4        ┆ 0.0      ┆ 13.32   │\n",
       "│ 9994   ┆ CA-2017-119914 ┆ 04-05-2017 ┆ 09-05-2017 ┆ … ┆ 243.16  ┆ 2        ┆ 0.0      ┆ 72.948  │\n",
       "└────────┴────────────────┴────────────┴────────────┴───┴─────────┴──────────┴──────────┴─────────┘"
      ]
     },
     "execution_count": 13,
     "metadata": {},
     "output_type": "execute_result"
    }
   ],
   "source": [
    "csv_df.tail(5)"
   ]
  },
  {
   "cell_type": "code",
   "execution_count": 14,
   "id": "e5471a32-0b94-4886-909b-eb77d0a36d69",
   "metadata": {},
   "outputs": [
    {
     "data": {
      "text/plain": [
       "['Row_ID',\n",
       " 'Order_ID',\n",
       " 'Order_Date',\n",
       " 'Ship_Date',\n",
       " 'Ship_Mode',\n",
       " 'Customer_ID',\n",
       " 'Customer_Name',\n",
       " 'Segment',\n",
       " 'Country',\n",
       " 'City',\n",
       " 'State',\n",
       " 'Postal_Code',\n",
       " 'Region',\n",
       " 'Product_ID',\n",
       " 'Category',\n",
       " 'Sub_Category',\n",
       " 'Product_Name',\n",
       " 'Sales',\n",
       " 'Quantity',\n",
       " 'Discount',\n",
       " 'Profit']"
      ]
     },
     "execution_count": 14,
     "metadata": {},
     "output_type": "execute_result"
    }
   ],
   "source": [
    "csv_df.columns"
   ]
  },
  {
   "cell_type": "code",
   "execution_count": 15,
   "id": "c16d080c-a14c-4eb9-a27d-5606bad21d9f",
   "metadata": {},
   "outputs": [
    {
     "data": {
      "text/html": [
       "<div><style>\n",
       ".dataframe > thead > tr,\n",
       ".dataframe > tbody > tr {\n",
       "  text-align: right;\n",
       "  white-space: pre-wrap;\n",
       "}\n",
       "</style>\n",
       "<small>shape: (9_994,)</small><table border=\"1\" class=\"dataframe\"><thead><tr><th>Customer_Name</th></tr><tr><td>str</td></tr></thead><tbody><tr><td>&quot;Claire Gute&quot;</td></tr><tr><td>&quot;Claire Gute&quot;</td></tr><tr><td>&quot;Darrin Van Huff&quot;</td></tr><tr><td>&quot;Sean O&#x27;Donnell&quot;</td></tr><tr><td>&quot;Sean O&#x27;Donnell&quot;</td></tr><tr><td>&hellip;</td></tr><tr><td>&quot;Tom Boeckenhauer&quot;</td></tr><tr><td>&quot;Dave Brooks&quot;</td></tr><tr><td>&quot;Dave Brooks&quot;</td></tr><tr><td>&quot;Dave Brooks&quot;</td></tr><tr><td>&quot;Chris Cortes&quot;</td></tr></tbody></table></div>"
      ],
      "text/plain": [
       "shape: (9_994,)\n",
       "Series: 'Customer_Name' [str]\n",
       "[\n",
       "\t\"Claire Gute\"\n",
       "\t\"Claire Gute\"\n",
       "\t\"Darrin Van Huff\"\n",
       "\t\"Sean O'Donnell\"\n",
       "\t\"Sean O'Donnell\"\n",
       "\t…\n",
       "\t\"Tom Boeckenhauer\"\n",
       "\t\"Dave Brooks\"\n",
       "\t\"Dave Brooks\"\n",
       "\t\"Dave Brooks\"\n",
       "\t\"Chris Cortes\"\n",
       "]"
      ]
     },
     "execution_count": 15,
     "metadata": {},
     "output_type": "execute_result"
    }
   ],
   "source": [
    "csv_df['Customer_Name']"
   ]
  },
  {
   "cell_type": "code",
   "execution_count": 16,
   "id": "7046c2ec-5925-4c5b-83b2-63bf77025b44",
   "metadata": {},
   "outputs": [
    {
     "data": {
      "text/plain": [
       "[String]"
      ]
     },
     "execution_count": 16,
     "metadata": {},
     "output_type": "execute_result"
    }
   ],
   "source": [
    "csv_df[['Customer_Name']].dtypes"
   ]
  },
  {
   "cell_type": "markdown",
   "id": "262cbfc8-2c7c-4d55-aa24-f2b814719138",
   "metadata": {},
   "source": [
    "***Reading Json Files***"
   ]
  },
  {
   "cell_type": "code",
   "execution_count": 20,
   "id": "252f6d7c-e2a7-444c-9619-104f17b85b94",
   "metadata": {},
   "outputs": [
    {
     "name": "stdout",
     "output_type": "stream",
     "text": [
      "shape: (12_407, 4)\n",
      "┌──────────────┬──────────────┬──────┬─────────────┐\n",
      "│ Country Name ┆ Country Code ┆ Year ┆ Value       │\n",
      "│ ---          ┆ ---          ┆ ---  ┆ ---         │\n",
      "│ str          ┆ str          ┆ str  ┆ str         │\n",
      "╞══════════════╪══════════════╪══════╪═════════════╡\n",
      "│ Arab World   ┆ ARB          ┆ 1960 ┆ 96388069    │\n",
      "│ Arab World   ┆ ARB          ┆ 1961 ┆ 98882541.4  │\n",
      "│ Arab World   ┆ ARB          ┆ 1962 ┆ 101474075.8 │\n",
      "│ Arab World   ┆ ARB          ┆ 1963 ┆ 104169209.2 │\n",
      "│ Arab World   ┆ ARB          ┆ 1964 ┆ 106978104.6 │\n",
      "│ …            ┆ …            ┆ …    ┆ …           │\n",
      "│ Zimbabwe     ┆ ZWE          ┆ 2006 ┆ 12529655    │\n",
      "│ Zimbabwe     ┆ ZWE          ┆ 2007 ┆ 12481245    │\n",
      "│ Zimbabwe     ┆ ZWE          ┆ 2008 ┆ 12451543    │\n",
      "│ Zimbabwe     ┆ ZWE          ┆ 2009 ┆ 12473992    │\n",
      "│ Zimbabwe     ┆ ZWE          ┆ 2010 ┆ 12571000    │\n",
      "└──────────────┴──────────────┴──────┴─────────────┘\n"
     ]
    }
   ],
   "source": [
    "# Read JSON file\n",
    "\n",
    "json_df = pl.read_json('./Files/Second.json')\n",
    "\n",
    "# Display the DataFrame\n",
    "print(json_df)\n"
   ]
  },
  {
   "cell_type": "code",
   "execution_count": 21,
   "id": "600c7ab6-aa00-4ddb-b5d6-21ba967aaa12",
   "metadata": {},
   "outputs": [
    {
     "data": {
      "text/html": [
       "<div><style>\n",
       ".dataframe > thead > tr,\n",
       ".dataframe > tbody > tr {\n",
       "  text-align: right;\n",
       "  white-space: pre-wrap;\n",
       "}\n",
       "</style>\n",
       "<small>shape: (5, 4)</small><table border=\"1\" class=\"dataframe\"><thead><tr><th>Country Name</th><th>Country Code</th><th>Year</th><th>Value</th></tr><tr><td>str</td><td>str</td><td>str</td><td>str</td></tr></thead><tbody><tr><td>&quot;Arab World&quot;</td><td>&quot;ARB&quot;</td><td>&quot;1960&quot;</td><td>&quot;96388069&quot;</td></tr><tr><td>&quot;Arab World&quot;</td><td>&quot;ARB&quot;</td><td>&quot;1961&quot;</td><td>&quot;98882541.4&quot;</td></tr><tr><td>&quot;Arab World&quot;</td><td>&quot;ARB&quot;</td><td>&quot;1962&quot;</td><td>&quot;101474075.8&quot;</td></tr><tr><td>&quot;Arab World&quot;</td><td>&quot;ARB&quot;</td><td>&quot;1963&quot;</td><td>&quot;104169209.2&quot;</td></tr><tr><td>&quot;Arab World&quot;</td><td>&quot;ARB&quot;</td><td>&quot;1964&quot;</td><td>&quot;106978104.6&quot;</td></tr></tbody></table></div>"
      ],
      "text/plain": [
       "shape: (5, 4)\n",
       "┌──────────────┬──────────────┬──────┬─────────────┐\n",
       "│ Country Name ┆ Country Code ┆ Year ┆ Value       │\n",
       "│ ---          ┆ ---          ┆ ---  ┆ ---         │\n",
       "│ str          ┆ str          ┆ str  ┆ str         │\n",
       "╞══════════════╪══════════════╪══════╪═════════════╡\n",
       "│ Arab World   ┆ ARB          ┆ 1960 ┆ 96388069    │\n",
       "│ Arab World   ┆ ARB          ┆ 1961 ┆ 98882541.4  │\n",
       "│ Arab World   ┆ ARB          ┆ 1962 ┆ 101474075.8 │\n",
       "│ Arab World   ┆ ARB          ┆ 1963 ┆ 104169209.2 │\n",
       "│ Arab World   ┆ ARB          ┆ 1964 ┆ 106978104.6 │\n",
       "└──────────────┴──────────────┴──────┴─────────────┘"
      ]
     },
     "execution_count": 21,
     "metadata": {},
     "output_type": "execute_result"
    }
   ],
   "source": [
    "json_df.head(5)"
   ]
  },
  {
   "cell_type": "code",
   "execution_count": 22,
   "id": "981e9596-f274-476c-b395-db3cb59de2ca",
   "metadata": {},
   "outputs": [
    {
     "data": {
      "text/html": [
       "<div><style>\n",
       ".dataframe > thead > tr,\n",
       ".dataframe > tbody > tr {\n",
       "  text-align: right;\n",
       "  white-space: pre-wrap;\n",
       "}\n",
       "</style>\n",
       "<small>shape: (5, 4)</small><table border=\"1\" class=\"dataframe\"><thead><tr><th>Country Name</th><th>Country Code</th><th>Year</th><th>Value</th></tr><tr><td>str</td><td>str</td><td>str</td><td>str</td></tr></thead><tbody><tr><td>&quot;Zimbabwe&quot;</td><td>&quot;ZWE&quot;</td><td>&quot;2006&quot;</td><td>&quot;12529655&quot;</td></tr><tr><td>&quot;Zimbabwe&quot;</td><td>&quot;ZWE&quot;</td><td>&quot;2007&quot;</td><td>&quot;12481245&quot;</td></tr><tr><td>&quot;Zimbabwe&quot;</td><td>&quot;ZWE&quot;</td><td>&quot;2008&quot;</td><td>&quot;12451543&quot;</td></tr><tr><td>&quot;Zimbabwe&quot;</td><td>&quot;ZWE&quot;</td><td>&quot;2009&quot;</td><td>&quot;12473992&quot;</td></tr><tr><td>&quot;Zimbabwe&quot;</td><td>&quot;ZWE&quot;</td><td>&quot;2010&quot;</td><td>&quot;12571000&quot;</td></tr></tbody></table></div>"
      ],
      "text/plain": [
       "shape: (5, 4)\n",
       "┌──────────────┬──────────────┬──────┬──────────┐\n",
       "│ Country Name ┆ Country Code ┆ Year ┆ Value    │\n",
       "│ ---          ┆ ---          ┆ ---  ┆ ---      │\n",
       "│ str          ┆ str          ┆ str  ┆ str      │\n",
       "╞══════════════╪══════════════╪══════╪══════════╡\n",
       "│ Zimbabwe     ┆ ZWE          ┆ 2006 ┆ 12529655 │\n",
       "│ Zimbabwe     ┆ ZWE          ┆ 2007 ┆ 12481245 │\n",
       "│ Zimbabwe     ┆ ZWE          ┆ 2008 ┆ 12451543 │\n",
       "│ Zimbabwe     ┆ ZWE          ┆ 2009 ┆ 12473992 │\n",
       "│ Zimbabwe     ┆ ZWE          ┆ 2010 ┆ 12571000 │\n",
       "└──────────────┴──────────────┴──────┴──────────┘"
      ]
     },
     "execution_count": 22,
     "metadata": {},
     "output_type": "execute_result"
    }
   ],
   "source": [
    "json_df.tail(5)"
   ]
  },
  {
   "cell_type": "code",
   "execution_count": 23,
   "id": "7f71877a-8ef1-4b31-8687-9eaf5bc5c4f2",
   "metadata": {},
   "outputs": [
    {
     "data": {
      "text/plain": [
       "['Country Name', 'Country Code', 'Year', 'Value']"
      ]
     },
     "execution_count": 23,
     "metadata": {},
     "output_type": "execute_result"
    }
   ],
   "source": [
    "json_df.columns"
   ]
  },
  {
   "cell_type": "code",
   "execution_count": 24,
   "id": "6a4024c1-d95b-4c37-9c27-7a37a492ab57",
   "metadata": {},
   "outputs": [
    {
     "data": {
      "text/html": [
       "<div><style>\n",
       ".dataframe > thead > tr,\n",
       ".dataframe > tbody > tr {\n",
       "  text-align: right;\n",
       "  white-space: pre-wrap;\n",
       "}\n",
       "</style>\n",
       "<small>shape: (12_407,)</small><table border=\"1\" class=\"dataframe\"><thead><tr><th>Country Name</th></tr><tr><td>str</td></tr></thead><tbody><tr><td>&quot;Arab World&quot;</td></tr><tr><td>&quot;Arab World&quot;</td></tr><tr><td>&quot;Arab World&quot;</td></tr><tr><td>&quot;Arab World&quot;</td></tr><tr><td>&quot;Arab World&quot;</td></tr><tr><td>&hellip;</td></tr><tr><td>&quot;Zimbabwe&quot;</td></tr><tr><td>&quot;Zimbabwe&quot;</td></tr><tr><td>&quot;Zimbabwe&quot;</td></tr><tr><td>&quot;Zimbabwe&quot;</td></tr><tr><td>&quot;Zimbabwe&quot;</td></tr></tbody></table></div>"
      ],
      "text/plain": [
       "shape: (12_407,)\n",
       "Series: 'Country Name' [str]\n",
       "[\n",
       "\t\"Arab World\"\n",
       "\t\"Arab World\"\n",
       "\t\"Arab World\"\n",
       "\t\"Arab World\"\n",
       "\t\"Arab World\"\n",
       "\t…\n",
       "\t\"Zimbabwe\"\n",
       "\t\"Zimbabwe\"\n",
       "\t\"Zimbabwe\"\n",
       "\t\"Zimbabwe\"\n",
       "\t\"Zimbabwe\"\n",
       "]"
      ]
     },
     "execution_count": 24,
     "metadata": {},
     "output_type": "execute_result"
    }
   ],
   "source": [
    "json_df['Country Name']"
   ]
  },
  {
   "cell_type": "code",
   "execution_count": 25,
   "id": "2ecf0dba-1442-40fa-a687-8ed8bcc51faf",
   "metadata": {},
   "outputs": [
    {
     "data": {
      "text/plain": [
       "[String]"
      ]
     },
     "execution_count": 25,
     "metadata": {},
     "output_type": "execute_result"
    }
   ],
   "source": [
    "json_df[['Country Name']].dtypes"
   ]
  },
  {
   "cell_type": "markdown",
   "id": "1f316066-8ebd-43a0-8010-ca7f4c7e3497",
   "metadata": {},
   "source": [
    "***Reading Parquet Files***"
   ]
  },
  {
   "cell_type": "code",
   "execution_count": 27,
   "id": "aaa85dd6-b606-4cbb-9670-baf749939323",
   "metadata": {},
   "outputs": [
    {
     "name": "stdout",
     "output_type": "stream",
     "text": [
      "shape: (891, 12)\n",
      "┌─────────────┬──────────┬────────┬──────────────────┬───┬────────────┬─────────┬───────┬──────────┐\n",
      "│ PassengerId ┆ Survived ┆ Pclass ┆ Name             ┆ … ┆ Ticket     ┆ Fare    ┆ Cabin ┆ Embarked │\n",
      "│ ---         ┆ ---      ┆ ---    ┆ ---              ┆   ┆ ---        ┆ ---     ┆ ---   ┆ ---      │\n",
      "│ i64         ┆ i64      ┆ i64    ┆ str              ┆   ┆ str        ┆ f64     ┆ str   ┆ str      │\n",
      "╞═════════════╪══════════╪════════╪══════════════════╪═══╪════════════╪═════════╪═══════╪══════════╡\n",
      "│ 1           ┆ 0        ┆ 3      ┆ Braund, Mr. Owen ┆ … ┆ A/5 21171  ┆ 7.25    ┆ null  ┆ S        │\n",
      "│             ┆          ┆        ┆ Harris           ┆   ┆            ┆         ┆       ┆          │\n",
      "│ 2           ┆ 1        ┆ 1      ┆ Cumings, Mrs.    ┆ … ┆ PC 17599   ┆ 71.2833 ┆ C85   ┆ C        │\n",
      "│             ┆          ┆        ┆ John Bradley     ┆   ┆            ┆         ┆       ┆          │\n",
      "│             ┆          ┆        ┆ (Fl…             ┆   ┆            ┆         ┆       ┆          │\n",
      "│ 3           ┆ 1        ┆ 3      ┆ Heikkinen, Miss. ┆ … ┆ STON/O2.   ┆ 7.925   ┆ null  ┆ S        │\n",
      "│             ┆          ┆        ┆ Laina            ┆   ┆ 3101282    ┆         ┆       ┆          │\n",
      "│ 4           ┆ 1        ┆ 1      ┆ Futrelle, Mrs.   ┆ … ┆ 113803     ┆ 53.1    ┆ C123  ┆ S        │\n",
      "│             ┆          ┆        ┆ Jacques Heath (… ┆   ┆            ┆         ┆       ┆          │\n",
      "│ 5           ┆ 0        ┆ 3      ┆ Allen, Mr.       ┆ … ┆ 373450     ┆ 8.05    ┆ null  ┆ S        │\n",
      "│             ┆          ┆        ┆ William Henry    ┆   ┆            ┆         ┆       ┆          │\n",
      "│ …           ┆ …        ┆ …      ┆ …                ┆ … ┆ …          ┆ …       ┆ …     ┆ …        │\n",
      "│ 887         ┆ 0        ┆ 2      ┆ Montvila, Rev.   ┆ … ┆ 211536     ┆ 13.0    ┆ null  ┆ S        │\n",
      "│             ┆          ┆        ┆ Juozas           ┆   ┆            ┆         ┆       ┆          │\n",
      "│ 888         ┆ 1        ┆ 1      ┆ Graham, Miss.    ┆ … ┆ 112053     ┆ 30.0    ┆ B42   ┆ S        │\n",
      "│             ┆          ┆        ┆ Margaret Edith   ┆   ┆            ┆         ┆       ┆          │\n",
      "│ 889         ┆ 0        ┆ 3      ┆ Johnston, Miss.  ┆ … ┆ W./C. 6607 ┆ 23.45   ┆ null  ┆ S        │\n",
      "│             ┆          ┆        ┆ Catherine Hele…  ┆   ┆            ┆         ┆       ┆          │\n",
      "│ 890         ┆ 1        ┆ 1      ┆ Behr, Mr. Karl   ┆ … ┆ 111369     ┆ 30.0    ┆ C148  ┆ C        │\n",
      "│             ┆          ┆        ┆ Howell           ┆   ┆            ┆         ┆       ┆          │\n",
      "│ 891         ┆ 0        ┆ 3      ┆ Dooley, Mr.      ┆ … ┆ 370376     ┆ 7.75    ┆ null  ┆ Q        │\n",
      "│             ┆          ┆        ┆ Patrick          ┆   ┆            ┆         ┆       ┆          │\n",
      "└─────────────┴──────────┴────────┴──────────────────┴───┴────────────┴─────────┴───────┴──────────┘\n"
     ]
    }
   ],
   "source": [
    "\n",
    "# Read Parquet file\n",
    "parquet_df = pl.read_parquet('./Files/titanic.parquet')\n",
    "\n",
    "# Display the DataFrame\n",
    "print(parquet_df)\n"
   ]
  },
  {
   "cell_type": "code",
   "execution_count": 28,
   "id": "690223f3-c677-47a5-ad9d-8e1a8a479468",
   "metadata": {},
   "outputs": [
    {
     "data": {
      "text/html": [
       "<div><style>\n",
       ".dataframe > thead > tr,\n",
       ".dataframe > tbody > tr {\n",
       "  text-align: right;\n",
       "  white-space: pre-wrap;\n",
       "}\n",
       "</style>\n",
       "<small>shape: (5, 12)</small><table border=\"1\" class=\"dataframe\"><thead><tr><th>PassengerId</th><th>Survived</th><th>Pclass</th><th>Name</th><th>Sex</th><th>Age</th><th>SibSp</th><th>Parch</th><th>Ticket</th><th>Fare</th><th>Cabin</th><th>Embarked</th></tr><tr><td>i64</td><td>i64</td><td>i64</td><td>str</td><td>str</td><td>f64</td><td>i64</td><td>i64</td><td>str</td><td>f64</td><td>str</td><td>str</td></tr></thead><tbody><tr><td>1</td><td>0</td><td>3</td><td>&quot;Braund, Mr. Owen Harris&quot;</td><td>&quot;male&quot;</td><td>22.0</td><td>1</td><td>0</td><td>&quot;A/5 21171&quot;</td><td>7.25</td><td>null</td><td>&quot;S&quot;</td></tr><tr><td>2</td><td>1</td><td>1</td><td>&quot;Cumings, Mrs. John Bradley (Fl…</td><td>&quot;female&quot;</td><td>38.0</td><td>1</td><td>0</td><td>&quot;PC 17599&quot;</td><td>71.2833</td><td>&quot;C85&quot;</td><td>&quot;C&quot;</td></tr><tr><td>3</td><td>1</td><td>3</td><td>&quot;Heikkinen, Miss. Laina&quot;</td><td>&quot;female&quot;</td><td>26.0</td><td>0</td><td>0</td><td>&quot;STON/O2. 3101282&quot;</td><td>7.925</td><td>null</td><td>&quot;S&quot;</td></tr><tr><td>4</td><td>1</td><td>1</td><td>&quot;Futrelle, Mrs. Jacques Heath (…</td><td>&quot;female&quot;</td><td>35.0</td><td>1</td><td>0</td><td>&quot;113803&quot;</td><td>53.1</td><td>&quot;C123&quot;</td><td>&quot;S&quot;</td></tr><tr><td>5</td><td>0</td><td>3</td><td>&quot;Allen, Mr. William Henry&quot;</td><td>&quot;male&quot;</td><td>35.0</td><td>0</td><td>0</td><td>&quot;373450&quot;</td><td>8.05</td><td>null</td><td>&quot;S&quot;</td></tr></tbody></table></div>"
      ],
      "text/plain": [
       "shape: (5, 12)\n",
       "┌─────────────┬──────────┬────────┬───────────────────┬───┬───────────┬─────────┬───────┬──────────┐\n",
       "│ PassengerId ┆ Survived ┆ Pclass ┆ Name              ┆ … ┆ Ticket    ┆ Fare    ┆ Cabin ┆ Embarked │\n",
       "│ ---         ┆ ---      ┆ ---    ┆ ---               ┆   ┆ ---       ┆ ---     ┆ ---   ┆ ---      │\n",
       "│ i64         ┆ i64      ┆ i64    ┆ str               ┆   ┆ str       ┆ f64     ┆ str   ┆ str      │\n",
       "╞═════════════╪══════════╪════════╪═══════════════════╪═══╪═══════════╪═════════╪═══════╪══════════╡\n",
       "│ 1           ┆ 0        ┆ 3      ┆ Braund, Mr. Owen  ┆ … ┆ A/5 21171 ┆ 7.25    ┆ null  ┆ S        │\n",
       "│             ┆          ┆        ┆ Harris            ┆   ┆           ┆         ┆       ┆          │\n",
       "│ 2           ┆ 1        ┆ 1      ┆ Cumings, Mrs.     ┆ … ┆ PC 17599  ┆ 71.2833 ┆ C85   ┆ C        │\n",
       "│             ┆          ┆        ┆ John Bradley (Fl… ┆   ┆           ┆         ┆       ┆          │\n",
       "│ 3           ┆ 1        ┆ 3      ┆ Heikkinen, Miss.  ┆ … ┆ STON/O2.  ┆ 7.925   ┆ null  ┆ S        │\n",
       "│             ┆          ┆        ┆ Laina             ┆   ┆ 3101282   ┆         ┆       ┆          │\n",
       "│ 4           ┆ 1        ┆ 1      ┆ Futrelle, Mrs.    ┆ … ┆ 113803    ┆ 53.1    ┆ C123  ┆ S        │\n",
       "│             ┆          ┆        ┆ Jacques Heath (…  ┆   ┆           ┆         ┆       ┆          │\n",
       "│ 5           ┆ 0        ┆ 3      ┆ Allen, Mr.        ┆ … ┆ 373450    ┆ 8.05    ┆ null  ┆ S        │\n",
       "│             ┆          ┆        ┆ William Henry     ┆   ┆           ┆         ┆       ┆          │\n",
       "└─────────────┴──────────┴────────┴───────────────────┴───┴───────────┴─────────┴───────┴──────────┘"
      ]
     },
     "execution_count": 28,
     "metadata": {},
     "output_type": "execute_result"
    }
   ],
   "source": [
    "parquet_df.head(5)"
   ]
  },
  {
   "cell_type": "code",
   "execution_count": 29,
   "id": "978ffec6-5b03-416b-8b2b-03eb0160a0d6",
   "metadata": {},
   "outputs": [
    {
     "data": {
      "text/html": [
       "<div><style>\n",
       ".dataframe > thead > tr,\n",
       ".dataframe > tbody > tr {\n",
       "  text-align: right;\n",
       "  white-space: pre-wrap;\n",
       "}\n",
       "</style>\n",
       "<small>shape: (5, 12)</small><table border=\"1\" class=\"dataframe\"><thead><tr><th>PassengerId</th><th>Survived</th><th>Pclass</th><th>Name</th><th>Sex</th><th>Age</th><th>SibSp</th><th>Parch</th><th>Ticket</th><th>Fare</th><th>Cabin</th><th>Embarked</th></tr><tr><td>i64</td><td>i64</td><td>i64</td><td>str</td><td>str</td><td>f64</td><td>i64</td><td>i64</td><td>str</td><td>f64</td><td>str</td><td>str</td></tr></thead><tbody><tr><td>887</td><td>0</td><td>2</td><td>&quot;Montvila, Rev. Juozas&quot;</td><td>&quot;male&quot;</td><td>27.0</td><td>0</td><td>0</td><td>&quot;211536&quot;</td><td>13.0</td><td>null</td><td>&quot;S&quot;</td></tr><tr><td>888</td><td>1</td><td>1</td><td>&quot;Graham, Miss. Margaret Edith&quot;</td><td>&quot;female&quot;</td><td>19.0</td><td>0</td><td>0</td><td>&quot;112053&quot;</td><td>30.0</td><td>&quot;B42&quot;</td><td>&quot;S&quot;</td></tr><tr><td>889</td><td>0</td><td>3</td><td>&quot;Johnston, Miss. Catherine Hele…</td><td>&quot;female&quot;</td><td>null</td><td>1</td><td>2</td><td>&quot;W./C. 6607&quot;</td><td>23.45</td><td>null</td><td>&quot;S&quot;</td></tr><tr><td>890</td><td>1</td><td>1</td><td>&quot;Behr, Mr. Karl Howell&quot;</td><td>&quot;male&quot;</td><td>26.0</td><td>0</td><td>0</td><td>&quot;111369&quot;</td><td>30.0</td><td>&quot;C148&quot;</td><td>&quot;C&quot;</td></tr><tr><td>891</td><td>0</td><td>3</td><td>&quot;Dooley, Mr. Patrick&quot;</td><td>&quot;male&quot;</td><td>32.0</td><td>0</td><td>0</td><td>&quot;370376&quot;</td><td>7.75</td><td>null</td><td>&quot;Q&quot;</td></tr></tbody></table></div>"
      ],
      "text/plain": [
       "shape: (5, 12)\n",
       "┌─────────────┬──────────┬────────┬─────────────────┬───┬────────────┬───────┬───────┬──────────┐\n",
       "│ PassengerId ┆ Survived ┆ Pclass ┆ Name            ┆ … ┆ Ticket     ┆ Fare  ┆ Cabin ┆ Embarked │\n",
       "│ ---         ┆ ---      ┆ ---    ┆ ---             ┆   ┆ ---        ┆ ---   ┆ ---   ┆ ---      │\n",
       "│ i64         ┆ i64      ┆ i64    ┆ str             ┆   ┆ str        ┆ f64   ┆ str   ┆ str      │\n",
       "╞═════════════╪══════════╪════════╪═════════════════╪═══╪════════════╪═══════╪═══════╪══════════╡\n",
       "│ 887         ┆ 0        ┆ 2      ┆ Montvila, Rev.  ┆ … ┆ 211536     ┆ 13.0  ┆ null  ┆ S        │\n",
       "│             ┆          ┆        ┆ Juozas          ┆   ┆            ┆       ┆       ┆          │\n",
       "│ 888         ┆ 1        ┆ 1      ┆ Graham, Miss.   ┆ … ┆ 112053     ┆ 30.0  ┆ B42   ┆ S        │\n",
       "│             ┆          ┆        ┆ Margaret Edith  ┆   ┆            ┆       ┆       ┆          │\n",
       "│ 889         ┆ 0        ┆ 3      ┆ Johnston, Miss. ┆ … ┆ W./C. 6607 ┆ 23.45 ┆ null  ┆ S        │\n",
       "│             ┆          ┆        ┆ Catherine Hele… ┆   ┆            ┆       ┆       ┆          │\n",
       "│ 890         ┆ 1        ┆ 1      ┆ Behr, Mr. Karl  ┆ … ┆ 111369     ┆ 30.0  ┆ C148  ┆ C        │\n",
       "│             ┆          ┆        ┆ Howell          ┆   ┆            ┆       ┆       ┆          │\n",
       "│ 891         ┆ 0        ┆ 3      ┆ Dooley, Mr.     ┆ … ┆ 370376     ┆ 7.75  ┆ null  ┆ Q        │\n",
       "│             ┆          ┆        ┆ Patrick         ┆   ┆            ┆       ┆       ┆          │\n",
       "└─────────────┴──────────┴────────┴─────────────────┴───┴────────────┴───────┴───────┴──────────┘"
      ]
     },
     "execution_count": 29,
     "metadata": {},
     "output_type": "execute_result"
    }
   ],
   "source": [
    "parquet_df.tail(5)"
   ]
  },
  {
   "cell_type": "code",
   "execution_count": 30,
   "id": "93ccc309-ef06-4e05-8226-782d02f713ce",
   "metadata": {},
   "outputs": [
    {
     "data": {
      "text/plain": [
       "['PassengerId',\n",
       " 'Survived',\n",
       " 'Pclass',\n",
       " 'Name',\n",
       " 'Sex',\n",
       " 'Age',\n",
       " 'SibSp',\n",
       " 'Parch',\n",
       " 'Ticket',\n",
       " 'Fare',\n",
       " 'Cabin',\n",
       " 'Embarked']"
      ]
     },
     "execution_count": 30,
     "metadata": {},
     "output_type": "execute_result"
    }
   ],
   "source": [
    "parquet_df.columns"
   ]
  },
  {
   "cell_type": "code",
   "execution_count": 32,
   "id": "dc1194b1-e0ef-4e39-a15a-6ce1f4b328ec",
   "metadata": {},
   "outputs": [
    {
     "data": {
      "text/html": [
       "<div><style>\n",
       ".dataframe > thead > tr,\n",
       ".dataframe > tbody > tr {\n",
       "  text-align: right;\n",
       "  white-space: pre-wrap;\n",
       "}\n",
       "</style>\n",
       "<small>shape: (891,)</small><table border=\"1\" class=\"dataframe\"><thead><tr><th>PassengerId</th></tr><tr><td>i64</td></tr></thead><tbody><tr><td>1</td></tr><tr><td>2</td></tr><tr><td>3</td></tr><tr><td>4</td></tr><tr><td>5</td></tr><tr><td>&hellip;</td></tr><tr><td>887</td></tr><tr><td>888</td></tr><tr><td>889</td></tr><tr><td>890</td></tr><tr><td>891</td></tr></tbody></table></div>"
      ],
      "text/plain": [
       "shape: (891,)\n",
       "Series: 'PassengerId' [i64]\n",
       "[\n",
       "\t1\n",
       "\t2\n",
       "\t3\n",
       "\t4\n",
       "\t5\n",
       "\t…\n",
       "\t887\n",
       "\t888\n",
       "\t889\n",
       "\t890\n",
       "\t891\n",
       "]"
      ]
     },
     "execution_count": 32,
     "metadata": {},
     "output_type": "execute_result"
    }
   ],
   "source": [
    "parquet_df['PassengerId']"
   ]
  },
  {
   "cell_type": "code",
   "execution_count": 33,
   "id": "7a9b1684-2ae4-495f-8234-0ff1e78e22d6",
   "metadata": {},
   "outputs": [
    {
     "data": {
      "text/plain": [
       "[Int64]"
      ]
     },
     "execution_count": 33,
     "metadata": {},
     "output_type": "execute_result"
    }
   ],
   "source": [
    "parquet_df[['PassengerId']].dtypes"
   ]
  },
  {
   "cell_type": "markdown",
   "id": "4bc1bec7-e117-44a4-ab06-245f93f4ef70",
   "metadata": {},
   "source": [
    "***Using Lazy loading For 1+ Million Data***"
   ]
  },
  {
   "cell_type": "code",
   "execution_count": 61,
   "id": "49e3ce3c-b6ed-4426-bb8c-193e940573e6",
   "metadata": {},
   "outputs": [
    {
     "data": {
      "text/plain": [
       "['FL_DATE',\n",
       " 'DEP_DELAY',\n",
       " 'ARR_DELAY',\n",
       " 'AIR_TIME',\n",
       " 'DISTANCE',\n",
       " 'DEP_TIME',\n",
       " 'ARR_TIME']"
      ]
     },
     "execution_count": 61,
     "metadata": {},
     "output_type": "execute_result"
    }
   ],
   "source": [
    "import polars as pl\n",
    "\n",
    "# Lazy loading the Parquet file\n",
    "df_lazy = pl.read_parquet(\"./Files/flights-1m.parquet\")\n",
    "# df_lazy = pl.scan_parquet(\"./Files/flights-1m.parquet\")\n",
    "df_lazy.columns\n",
    "# df_lazy = pl.scan_parquet(\"../data/2022/yellow_taxi/*\").select([\"trip_distance\", \"store_and_fwd_flag\",\"total_amount\"])\n"
   ]
  },
  {
   "cell_type": "code",
   "execution_count": 62,
   "id": "3c2c2aae",
   "metadata": {},
   "outputs": [
    {
     "data": {
      "text/html": [
       "<i>naive plan: (run <b>LazyFrame.explain(optimized=True)</b> to see the optimized plan)</i>\n",
       "    <p></p>\n",
       "    <div>SELECT [col(\"FL_DATE\"), col(\"DEP_DELAY\"), col(\"ARR_DELAY\"), col(\"AIR_TIME\"), col(\"DISTANCE\")]<p></p>  Parquet SCAN [./Files/flights-1m.parquet] [id: 5604698620320]<p></p>  PROJECT */7 COLUMNS</div>"
      ],
      "text/plain": [
       "<LazyFrame at 0x22826224210>"
      ]
     },
     "execution_count": 62,
     "metadata": {},
     "output_type": "execute_result"
    }
   ],
   "source": [
    "df_lazy = pl.scan_parquet(\"./Files/flights-1m.parquet\").select(['FL_DATE',\n",
    " 'DEP_DELAY',\n",
    " 'ARR_DELAY',\n",
    " 'AIR_TIME',\n",
    " 'DISTANCE',])\n",
    "df_lazy"
   ]
  },
  {
   "cell_type": "code",
   "execution_count": 63,
   "id": "b70e3f77-8373-48c3-bdf6-811ee7b3fd2d",
   "metadata": {},
   "outputs": [
    {
     "data": {
      "text/html": [
       "<i>naive plan: (run <b>LazyFrame.explain(optimized=True)</b> to see the optimized plan)</i>\n",
       "    <p></p>\n",
       "    <div>SELECT [col(\"FL_DATE\"), col(\"DEP_DELAY\"), col(\"ARR_DELAY\"), col(\"AIR_TIME\"), col(\"DISTANCE\")]<p></p>  Parquet SCAN [./Files/flights-1m.parquet] [id: 5604698620320]<p></p>  PROJECT */7 COLUMNS</div>"
      ],
      "text/plain": [
       "<LazyFrame at 0x22826224210>"
      ]
     },
     "execution_count": 63,
     "metadata": {},
     "output_type": "execute_result"
    }
   ],
   "source": [
    "# df_lazy is already a DataFrame at this point, so no need to collect again\n",
    "# If you want to see the DataFrame, you can just display it:\n",
    "df_lazy"
   ]
  },
  {
   "cell_type": "code",
   "execution_count": 64,
   "id": "b9e62519-d9ff-4567-a892-163d4390be59",
   "metadata": {},
   "outputs": [
    {
     "data": {
      "text/plain": [
       "['FL_DATE', 'DEP_DELAY', 'ARR_DELAY', 'AIR_TIME', 'DISTANCE']"
      ]
     },
     "execution_count": 64,
     "metadata": {},
     "output_type": "execute_result"
    }
   ],
   "source": [
    "# Display the result\n",
    "# df_lazy.columns // gives result with warning\n",
    "df_lazy.collect_schema().names()"
   ]
  },
  {
   "cell_type": "code",
   "execution_count": 65,
   "id": "2bcc7b4e-16c8-4f17-b1e6-3ac25a1b6143",
   "metadata": {},
   "outputs": [],
   "source": [
    "# Lazy loading the Parquet file\n",
    "df_lazy = pl.scan_parquet('../Learning_Polars/Files/*').select(['FL_DATE', 'DEP_DELAY', 'ARR_DELAY', 'AIR_TIME', 'DISTANCE'])"
   ]
  },
  {
   "cell_type": "code",
   "execution_count": 74,
   "id": "112d5a58-7d83-46b6-9613-49261b26def1",
   "metadata": {},
   "outputs": [],
   "source": [
    "# Collect the result to materialize it as a DataFrame\n",
    "# Make sure to only scan valid parquet files\n",
    "df_lazy = pl.scan_parquet('../Learning_Polars/Files/flights-1m.parquet').select(['FL_DATE', 'DEP_DELAY', 'ARR_DELAY', 'AIR_TIME', 'DISTANCE'])\n",
    "df_lazy = df_lazy.collect(engine=\"streaming\")\n"
   ]
  },
  {
   "cell_type": "code",
   "execution_count": 75,
   "id": "cd25c139-52ab-4004-a3f1-41867a737aeb",
   "metadata": {},
   "outputs": [
    {
     "data": {
      "text/html": [
       "<div><style>\n",
       ".dataframe > thead > tr,\n",
       ".dataframe > tbody > tr {\n",
       "  text-align: right;\n",
       "  white-space: pre-wrap;\n",
       "}\n",
       "</style>\n",
       "<small>shape: (1_000_000, 5)</small><table border=\"1\" class=\"dataframe\"><thead><tr><th>FL_DATE</th><th>DEP_DELAY</th><th>ARR_DELAY</th><th>AIR_TIME</th><th>DISTANCE</th></tr><tr><td>date</td><td>i16</td><td>i16</td><td>i16</td><td>i16</td></tr></thead><tbody><tr><td>2006-01-01</td><td>5</td><td>19</td><td>350</td><td>2475</td></tr><tr><td>2006-01-02</td><td>167</td><td>216</td><td>343</td><td>2475</td></tr><tr><td>2006-01-03</td><td>-7</td><td>-2</td><td>344</td><td>2475</td></tr><tr><td>2006-01-04</td><td>-5</td><td>-13</td><td>331</td><td>2475</td></tr><tr><td>2006-01-05</td><td>-3</td><td>-17</td><td>321</td><td>2475</td></tr><tr><td>&hellip;</td><td>&hellip;</td><td>&hellip;</td><td>&hellip;</td><td>&hellip;</td></tr><tr><td>2006-02-20</td><td>87</td><td>86</td><td>71</td><td>545</td></tr><tr><td>2006-02-20</td><td>-2</td><td>0</td><td>71</td><td>508</td></tr><tr><td>2006-02-20</td><td>33</td><td>19</td><td>64</td><td>508</td></tr><tr><td>2006-02-20</td><td>65</td><td>54</td><td>65</td><td>508</td></tr><tr><td>2006-02-20</td><td>141</td><td>135</td><td>70</td><td>508</td></tr></tbody></table></div>"
      ],
      "text/plain": [
       "shape: (1_000_000, 5)\n",
       "┌────────────┬───────────┬───────────┬──────────┬──────────┐\n",
       "│ FL_DATE    ┆ DEP_DELAY ┆ ARR_DELAY ┆ AIR_TIME ┆ DISTANCE │\n",
       "│ ---        ┆ ---       ┆ ---       ┆ ---      ┆ ---      │\n",
       "│ date       ┆ i16       ┆ i16       ┆ i16      ┆ i16      │\n",
       "╞════════════╪═══════════╪═══════════╪══════════╪══════════╡\n",
       "│ 2006-01-01 ┆ 5         ┆ 19        ┆ 350      ┆ 2475     │\n",
       "│ 2006-01-02 ┆ 167       ┆ 216       ┆ 343      ┆ 2475     │\n",
       "│ 2006-01-03 ┆ -7        ┆ -2        ┆ 344      ┆ 2475     │\n",
       "│ 2006-01-04 ┆ -5        ┆ -13       ┆ 331      ┆ 2475     │\n",
       "│ 2006-01-05 ┆ -3        ┆ -17       ┆ 321      ┆ 2475     │\n",
       "│ …          ┆ …         ┆ …         ┆ …        ┆ …        │\n",
       "│ 2006-02-20 ┆ 87        ┆ 86        ┆ 71       ┆ 545      │\n",
       "│ 2006-02-20 ┆ -2        ┆ 0         ┆ 71       ┆ 508      │\n",
       "│ 2006-02-20 ┆ 33        ┆ 19        ┆ 64       ┆ 508      │\n",
       "│ 2006-02-20 ┆ 65        ┆ 54        ┆ 65       ┆ 508      │\n",
       "│ 2006-02-20 ┆ 141       ┆ 135       ┆ 70       ┆ 508      │\n",
       "└────────────┴───────────┴───────────┴──────────┴──────────┘"
      ]
     },
     "execution_count": 75,
     "metadata": {},
     "output_type": "execute_result"
    }
   ],
   "source": [
    "df_lazy"
   ]
  },
  {
   "cell_type": "code",
   "execution_count": 76,
   "id": "6ac6591e-1637-4c6f-adc7-888cf3dfbc9e",
   "metadata": {},
   "outputs": [
    {
     "data": {
      "text/html": [
       "<div><style>\n",
       ".dataframe > thead > tr,\n",
       ".dataframe > tbody > tr {\n",
       "  text-align: right;\n",
       "  white-space: pre-wrap;\n",
       "}\n",
       "</style>\n",
       "<small>shape: (5, 5)</small><table border=\"1\" class=\"dataframe\"><thead><tr><th>FL_DATE</th><th>DEP_DELAY</th><th>ARR_DELAY</th><th>AIR_TIME</th><th>DISTANCE</th></tr><tr><td>date</td><td>i16</td><td>i16</td><td>i16</td><td>i16</td></tr></thead><tbody><tr><td>2006-01-01</td><td>5</td><td>19</td><td>350</td><td>2475</td></tr><tr><td>2006-01-02</td><td>167</td><td>216</td><td>343</td><td>2475</td></tr><tr><td>2006-01-03</td><td>-7</td><td>-2</td><td>344</td><td>2475</td></tr><tr><td>2006-01-04</td><td>-5</td><td>-13</td><td>331</td><td>2475</td></tr><tr><td>2006-01-05</td><td>-3</td><td>-17</td><td>321</td><td>2475</td></tr></tbody></table></div>"
      ],
      "text/plain": [
       "shape: (5, 5)\n",
       "┌────────────┬───────────┬───────────┬──────────┬──────────┐\n",
       "│ FL_DATE    ┆ DEP_DELAY ┆ ARR_DELAY ┆ AIR_TIME ┆ DISTANCE │\n",
       "│ ---        ┆ ---       ┆ ---       ┆ ---      ┆ ---      │\n",
       "│ date       ┆ i16       ┆ i16       ┆ i16      ┆ i16      │\n",
       "╞════════════╪═══════════╪═══════════╪══════════╪══════════╡\n",
       "│ 2006-01-01 ┆ 5         ┆ 19        ┆ 350      ┆ 2475     │\n",
       "│ 2006-01-02 ┆ 167       ┆ 216       ┆ 343      ┆ 2475     │\n",
       "│ 2006-01-03 ┆ -7        ┆ -2        ┆ 344      ┆ 2475     │\n",
       "│ 2006-01-04 ┆ -5        ┆ -13       ┆ 331      ┆ 2475     │\n",
       "│ 2006-01-05 ┆ -3        ┆ -17       ┆ 321      ┆ 2475     │\n",
       "└────────────┴───────────┴───────────┴──────────┴──────────┘"
      ]
     },
     "execution_count": 76,
     "metadata": {},
     "output_type": "execute_result"
    }
   ],
   "source": [
    "df_lazy.head(5)"
   ]
  },
  {
   "cell_type": "code",
   "execution_count": 77,
   "id": "4d554503-bc5c-4425-a637-91121ac631c0",
   "metadata": {},
   "outputs": [
    {
     "data": {
      "text/html": [
       "<div><style>\n",
       ".dataframe > thead > tr,\n",
       ".dataframe > tbody > tr {\n",
       "  text-align: right;\n",
       "  white-space: pre-wrap;\n",
       "}\n",
       "</style>\n",
       "<small>shape: (5, 5)</small><table border=\"1\" class=\"dataframe\"><thead><tr><th>FL_DATE</th><th>DEP_DELAY</th><th>ARR_DELAY</th><th>AIR_TIME</th><th>DISTANCE</th></tr><tr><td>date</td><td>i16</td><td>i16</td><td>i16</td><td>i16</td></tr></thead><tbody><tr><td>2006-02-20</td><td>87</td><td>86</td><td>71</td><td>545</td></tr><tr><td>2006-02-20</td><td>-2</td><td>0</td><td>71</td><td>508</td></tr><tr><td>2006-02-20</td><td>33</td><td>19</td><td>64</td><td>508</td></tr><tr><td>2006-02-20</td><td>65</td><td>54</td><td>65</td><td>508</td></tr><tr><td>2006-02-20</td><td>141</td><td>135</td><td>70</td><td>508</td></tr></tbody></table></div>"
      ],
      "text/plain": [
       "shape: (5, 5)\n",
       "┌────────────┬───────────┬───────────┬──────────┬──────────┐\n",
       "│ FL_DATE    ┆ DEP_DELAY ┆ ARR_DELAY ┆ AIR_TIME ┆ DISTANCE │\n",
       "│ ---        ┆ ---       ┆ ---       ┆ ---      ┆ ---      │\n",
       "│ date       ┆ i16       ┆ i16       ┆ i16      ┆ i16      │\n",
       "╞════════════╪═══════════╪═══════════╪══════════╪══════════╡\n",
       "│ 2006-02-20 ┆ 87        ┆ 86        ┆ 71       ┆ 545      │\n",
       "│ 2006-02-20 ┆ -2        ┆ 0         ┆ 71       ┆ 508      │\n",
       "│ 2006-02-20 ┆ 33        ┆ 19        ┆ 64       ┆ 508      │\n",
       "│ 2006-02-20 ┆ 65        ┆ 54        ┆ 65       ┆ 508      │\n",
       "│ 2006-02-20 ┆ 141       ┆ 135       ┆ 70       ┆ 508      │\n",
       "└────────────┴───────────┴───────────┴──────────┴──────────┘"
      ]
     },
     "execution_count": 77,
     "metadata": {},
     "output_type": "execute_result"
    }
   ],
   "source": [
    "df_lazy.tail(5)"
   ]
  },
  {
   "cell_type": "code",
   "execution_count": 78,
   "id": "d21d2dba-fdfa-4d24-a62d-49ae69861347",
   "metadata": {},
   "outputs": [
    {
     "data": {
      "text/plain": [
       "['FL_DATE', 'DEP_DELAY', 'ARR_DELAY', 'AIR_TIME', 'DISTANCE']"
      ]
     },
     "execution_count": 78,
     "metadata": {},
     "output_type": "execute_result"
    }
   ],
   "source": [
    "df_lazy.columns"
   ]
  },
  {
   "cell_type": "markdown",
   "id": "2f171749-2e71-49bb-8073-a2f4ac6785d5",
   "metadata": {},
   "source": [
    "***We can get the dtype schema of a `LazyFrame` (which is a mapping from column names to dtypes) by calling `schema`***"
   ]
  },
  {
   "cell_type": "code",
   "execution_count": 79,
   "id": "ecfbd95c-db0b-4ad8-8b1f-bc3e84387bb3",
   "metadata": {},
   "outputs": [
    {
     "data": {
      "text/plain": [
       "Schema([('FL_DATE', Date),\n",
       "        ('DEP_DELAY', Int16),\n",
       "        ('ARR_DELAY', Int16),\n",
       "        ('AIR_TIME', Int16),\n",
       "        ('DISTANCE', Int16)])"
      ]
     },
     "execution_count": 79,
     "metadata": {},
     "output_type": "execute_result"
    }
   ],
   "source": [
    "df_lazy.schema"
   ]
  },
  {
   "cell_type": "markdown",
   "id": "ce618e85-b679-4fb6-bbd1-a49fe0b4a8d5",
   "metadata": {},
   "source": [
    "### Creating a LazyFrame from data\n",
    "We can also directly create a `LazyFrame` from a constructor with some data"
   ]
  },
  {
   "cell_type": "code",
   "execution_count": 80,
   "id": "5d39f657-360f-44e1-ba29-e90e6ae93260",
   "metadata": {},
   "outputs": [
    {
     "data": {
      "text/html": [
       "<i>naive plan: (run <b>LazyFrame.explain(optimized=True)</b> to see the optimized plan)</i>\n",
       "    <p></p>\n",
       "    <div>DF [\"values\"]; PROJECT */1 COLUMNS</div>"
      ],
      "text/plain": [
       "<LazyFrame at 0x22826227690>"
      ]
     },
     "execution_count": 80,
     "metadata": {},
     "output_type": "execute_result"
    }
   ],
   "source": [
    "pl.LazyFrame({\"values\":[0,1,2]})"
   ]
  },
  {
   "cell_type": "code",
   "execution_count": null,
   "id": "5b57bed7-c2fc-432d-8dd4-f77c739c5e44",
   "metadata": {},
   "outputs": [],
   "source": []
  }
 ],
 "metadata": {
  "kernelspec": {
   "display_name": "polars_env",
   "language": "python",
   "name": "python3"
  },
  "language_info": {
   "codemirror_mode": {
    "name": "ipython",
    "version": 3
   },
   "file_extension": ".py",
   "mimetype": "text/x-python",
   "name": "python",
   "nbconvert_exporter": "python",
   "pygments_lexer": "ipython3",
   "version": "3.13.5"
  }
 },
 "nbformat": 4,
 "nbformat_minor": 5
}
