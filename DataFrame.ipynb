{
 "cells": [
  {
   "cell_type": "markdown",
   "id": "bff98dc8",
   "metadata": {},
   "source": [
    "What is DataFrame?"
   ]
  },
  {
   "cell_type": "markdown",
   "id": "90593767",
   "metadata": {},
   "source": [
    "A DataFrame is a two-dimensional, size-mutable, potentially heterogeneous tabular data structure with labeled axes (rows and columns). It is similar to a spreadsheet or SQL table, or a dictionary of Series objects. DataFrames are commonly used in data analysis and manipulation tasks.\n",
    "\n",
    "1. dicionary and list(DataFrame)\n",
    "2. create Polars and Pandas dataframe\n",
    "3. convert dataframe"
   ]
  },
  {
   "cell_type": "markdown",
   "id": "0fd486ce",
   "metadata": {},
   "source": [
    "Dictionary"
   ]
  },
  {
   "cell_type": "markdown",
   "id": "875130b6",
   "metadata": {},
   "source": [
    "A dictionary is a collection of key-value pairs. Each key is unique and maps to a value. In Python, dictionaries are defined using curly braces `{}`."
   ]
  },
  {
   "cell_type": "code",
   "execution_count": 1,
   "id": "7e5934f6",
   "metadata": {},
   "outputs": [],
   "source": [
    "# Dictionary\n",
    "data = {\n",
    "    \"ID\": 1,\n",
    "    \"Name\": 'Kunal',\n",
    "    \"Age\": 25\n",
    "}"
   ]
  },
  {
   "cell_type": "code",
   "execution_count": 2,
   "id": "0b3ef754",
   "metadata": {},
   "outputs": [
    {
     "data": {
      "text/plain": [
       "{'ID': 1, 'Name': 'Kunal', 'Age': 25}"
      ]
     },
     "execution_count": 2,
     "metadata": {},
     "output_type": "execute_result"
    }
   ],
   "source": [
    "data"
   ]
  },
  {
   "cell_type": "markdown",
   "id": "6713e671",
   "metadata": {},
   "source": [
    "type() is a built-in function that returns the type of an object."
   ]
  },
  {
   "cell_type": "code",
   "execution_count": 4,
   "id": "3ec546db",
   "metadata": {},
   "outputs": [
    {
     "name": "stdout",
     "output_type": "stream",
     "text": [
      "<class 'dict'>\n"
     ]
    }
   ],
   "source": [
    "print(type(data))"
   ]
  },
  {
   "cell_type": "markdown",
   "id": "0db0518d",
   "metadata": {},
   "source": [
    "Here, type(data) outputs <class 'dict'>, indicating that `data` is a dictionary."
   ]
  },
  {
   "cell_type": "code",
   "execution_count": 5,
   "id": "af057e3e",
   "metadata": {},
   "outputs": [
    {
     "data": {
      "text/plain": [
       "3"
      ]
     },
     "execution_count": 5,
     "metadata": {},
     "output_type": "execute_result"
    }
   ],
   "source": [
    "len(data)"
   ]
  },
  {
   "cell_type": "markdown",
   "id": "797a9e2a",
   "metadata": {},
   "source": [
    "Using Dictionary in Polars DataFrame"
   ]
  },
  {
   "cell_type": "code",
   "execution_count": 7,
   "id": "23537f39",
   "metadata": {},
   "outputs": [],
   "source": [
    "import polars as pl\n",
    "\n",
    "data = {\n",
    "    \"ID\": 1,\n",
    "    \"Name\": \"Kunal\",\n",
    "    \"Age\": 25\n",
    "}"
   ]
  },
  {
   "cell_type": "code",
   "execution_count": 8,
   "id": "cdeee32f",
   "metadata": {},
   "outputs": [],
   "source": [
    "df = pl.DataFrame(data)"
   ]
  },
  {
   "cell_type": "code",
   "execution_count": 9,
   "id": "f8a3f14c",
   "metadata": {},
   "outputs": [
    {
     "data": {
      "text/html": [
       "<div><style>\n",
       ".dataframe > thead > tr,\n",
       ".dataframe > tbody > tr {\n",
       "  text-align: right;\n",
       "  white-space: pre-wrap;\n",
       "}\n",
       "</style>\n",
       "<small>shape: (1, 3)</small><table border=\"1\" class=\"dataframe\"><thead><tr><th>ID</th><th>Name</th><th>Age</th></tr><tr><td>i64</td><td>str</td><td>i64</td></tr></thead><tbody><tr><td>1</td><td>&quot;Kunal&quot;</td><td>25</td></tr></tbody></table></div>"
      ],
      "text/plain": [
       "shape: (1, 3)\n",
       "┌─────┬───────┬─────┐\n",
       "│ ID  ┆ Name  ┆ Age │\n",
       "│ --- ┆ ---   ┆ --- │\n",
       "│ i64 ┆ str   ┆ i64 │\n",
       "╞═════╪═══════╪═════╡\n",
       "│ 1   ┆ Kunal ┆ 25  │\n",
       "└─────┴───────┴─────┘"
      ]
     },
     "execution_count": 9,
     "metadata": {},
     "output_type": "execute_result"
    }
   ],
   "source": [
    "df"
   ]
  },
  {
   "cell_type": "code",
   "execution_count": 10,
   "id": "b682d2b6",
   "metadata": {},
   "outputs": [
    {
     "data": {
      "text/plain": [
       "polars.dataframe.frame.DataFrame"
      ]
     },
     "execution_count": 10,
     "metadata": {},
     "output_type": "execute_result"
    }
   ],
   "source": [
    "type(df)"
   ]
  },
  {
   "cell_type": "markdown",
   "id": "106a08c0",
   "metadata": {},
   "source": [
    "Above type(df) show the df is dataframe class in Polars."
   ]
  },
  {
   "cell_type": "markdown",
   "id": "db3b1ddb",
   "metadata": {},
   "source": [
    "https://docs.pola.rs/api/python/stable/reference/dataframe/index.html"
   ]
  },
  {
   "cell_type": "code",
   "execution_count": null,
   "id": "4c1a3a5b",
   "metadata": {},
   "outputs": [],
   "source": []
  }
 ],
 "metadata": {
  "kernelspec": {
   "display_name": "polars_env",
   "language": "python",
   "name": "python3"
  },
  "language_info": {
   "codemirror_mode": {
    "name": "ipython",
    "version": 3
   },
   "file_extension": ".py",
   "mimetype": "text/x-python",
   "name": "python",
   "nbconvert_exporter": "python",
   "pygments_lexer": "ipython3",
   "version": "3.13.5"
  }
 },
 "nbformat": 4,
 "nbformat_minor": 5
}
