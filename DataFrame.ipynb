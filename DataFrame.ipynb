{
 "cells": [
  {
   "cell_type": "markdown",
   "id": "bff98dc8",
   "metadata": {},
   "source": [
    "What is DataFrame?"
   ]
  },
  {
   "cell_type": "markdown",
   "id": "90593767",
   "metadata": {},
   "source": [
    "A DataFrame is a two-dimensional, size-mutable, potentially heterogeneous tabular data structure with labeled axes (rows and columns). It is similar to a spreadsheet or SQL table, or a dictionary of Series objects. DataFrames are commonly used in data analysis and manipulation tasks.\n",
    "\n",
    "1. dicionary and list(DataFrame)\n",
    "2. create Polars and Pandas dataframe\n",
    "3. convert dataframe"
   ]
  },
  {
   "cell_type": "markdown",
   "id": "0fd486ce",
   "metadata": {},
   "source": [
    "Dictionary"
   ]
  },
  {
   "cell_type": "markdown",
   "id": "875130b6",
   "metadata": {},
   "source": [
    "A dictionary is a collection of key-value pairs. Each key is unique and maps to a value. In Python, dictionaries are defined using curly braces `{}`."
   ]
  },
  {
   "cell_type": "code",
   "execution_count": 1,
   "id": "7e5934f6",
   "metadata": {},
   "outputs": [],
   "source": [
    "# Dictionary\n",
    "data = {\n",
    "    \"ID\": 1,\n",
    "    \"Name\": 'Kunal',\n",
    "    \"Age\": 25\n",
    "}"
   ]
  },
  {
   "cell_type": "code",
   "execution_count": 2,
   "id": "0b3ef754",
   "metadata": {},
   "outputs": [
    {
     "data": {
      "text/plain": [
       "{'ID': 1, 'Name': 'Kunal', 'Age': 25}"
      ]
     },
     "execution_count": 2,
     "metadata": {},
     "output_type": "execute_result"
    }
   ],
   "source": [
    "data"
   ]
  },
  {
   "cell_type": "markdown",
   "id": "6713e671",
   "metadata": {},
   "source": [
    "type() is a built-in function that returns the type of an object."
   ]
  },
  {
   "cell_type": "code",
   "execution_count": 4,
   "id": "3ec546db",
   "metadata": {},
   "outputs": [
    {
     "name": "stdout",
     "output_type": "stream",
     "text": [
      "<class 'dict'>\n"
     ]
    }
   ],
   "source": [
    "print(type(data))"
   ]
  },
  {
   "cell_type": "markdown",
   "id": "0db0518d",
   "metadata": {},
   "source": [
    "Here, type(data) outputs <class 'dict'>, indicating that `data` is a dictionary."
   ]
  },
  {
   "cell_type": "code",
   "execution_count": 5,
   "id": "af057e3e",
   "metadata": {},
   "outputs": [
    {
     "data": {
      "text/plain": [
       "3"
      ]
     },
     "execution_count": 5,
     "metadata": {},
     "output_type": "execute_result"
    }
   ],
   "source": [
    "len(data)"
   ]
  },
  {
   "cell_type": "markdown",
   "id": "797a9e2a",
   "metadata": {},
   "source": [
    "Using Dictionary in Polars DataFrame"
   ]
  },
  {
   "cell_type": "code",
   "execution_count": 7,
   "id": "23537f39",
   "metadata": {},
   "outputs": [],
   "source": [
    "import polars as pl\n",
    "\n",
    "data = {\n",
    "    \"ID\": 1,\n",
    "    \"Name\": \"Kunal\",\n",
    "    \"Age\": 25\n",
    "}"
   ]
  },
  {
   "cell_type": "code",
   "execution_count": 8,
   "id": "cdeee32f",
   "metadata": {},
   "outputs": [],
   "source": [
    "df = pl.DataFrame(data)"
   ]
  },
  {
   "cell_type": "code",
   "execution_count": 9,
   "id": "f8a3f14c",
   "metadata": {},
   "outputs": [
    {
     "data": {
      "text/html": [
       "<div><style>\n",
       ".dataframe > thead > tr,\n",
       ".dataframe > tbody > tr {\n",
       "  text-align: right;\n",
       "  white-space: pre-wrap;\n",
       "}\n",
       "</style>\n",
       "<small>shape: (1, 3)</small><table border=\"1\" class=\"dataframe\"><thead><tr><th>ID</th><th>Name</th><th>Age</th></tr><tr><td>i64</td><td>str</td><td>i64</td></tr></thead><tbody><tr><td>1</td><td>&quot;Kunal&quot;</td><td>25</td></tr></tbody></table></div>"
      ],
      "text/plain": [
       "shape: (1, 3)\n",
       "┌─────┬───────┬─────┐\n",
       "│ ID  ┆ Name  ┆ Age │\n",
       "│ --- ┆ ---   ┆ --- │\n",
       "│ i64 ┆ str   ┆ i64 │\n",
       "╞═════╪═══════╪═════╡\n",
       "│ 1   ┆ Kunal ┆ 25  │\n",
       "└─────┴───────┴─────┘"
      ]
     },
     "execution_count": 9,
     "metadata": {},
     "output_type": "execute_result"
    }
   ],
   "source": [
    "df"
   ]
  },
  {
   "cell_type": "code",
   "execution_count": 10,
   "id": "b682d2b6",
   "metadata": {},
   "outputs": [
    {
     "data": {
      "text/plain": [
       "polars.dataframe.frame.DataFrame"
      ]
     },
     "execution_count": 10,
     "metadata": {},
     "output_type": "execute_result"
    }
   ],
   "source": [
    "type(df)"
   ]
  },
  {
   "cell_type": "markdown",
   "id": "106a08c0",
   "metadata": {},
   "source": [
    "Above type(df) show the df is dataframe class in Polars."
   ]
  },
  {
   "cell_type": "markdown",
   "id": "db3b1ddb",
   "metadata": {},
   "source": [
    "https://docs.pola.rs/api/python/stable/reference/dataframe/index.html"
   ]
  },
  {
   "cell_type": "code",
   "execution_count": 12,
   "id": "4c1a3a5b",
   "metadata": {},
   "outputs": [
    {
     "data": {
      "text/plain": [
       "['ID', 'Name', 'Age']"
      ]
     },
     "execution_count": 12,
     "metadata": {},
     "output_type": "execute_result"
    }
   ],
   "source": [
    "df.columns"
   ]
  },
  {
   "cell_type": "code",
   "execution_count": 13,
   "id": "6afc8360",
   "metadata": {},
   "outputs": [
    {
     "data": {
      "text/plain": [
       "1"
      ]
     },
     "execution_count": 13,
     "metadata": {},
     "output_type": "execute_result"
    }
   ],
   "source": [
    "len(df)"
   ]
  },
  {
   "cell_type": "markdown",
   "id": "d37efadd",
   "metadata": {},
   "source": [
    "List:\n",
    "\n",
    "A list is an ordered collection of items that can contain elements of different types. Lists are defined using square brackets `[]`."
   ]
  },
  {
   "cell_type": "code",
   "execution_count": 14,
   "id": "5c86aee2",
   "metadata": {},
   "outputs": [],
   "source": [
    "#List\n",
    "data = [[1, 'Kunal', 25]]"
   ]
  },
  {
   "cell_type": "code",
   "execution_count": 15,
   "id": "07ed3740",
   "metadata": {},
   "outputs": [
    {
     "data": {
      "text/plain": [
       "[[1, 'Kunal', 25]]"
      ]
     },
     "execution_count": 15,
     "metadata": {},
     "output_type": "execute_result"
    }
   ],
   "source": [
    "data"
   ]
  },
  {
   "cell_type": "code",
   "execution_count": 16,
   "id": "316e9cbf",
   "metadata": {},
   "outputs": [
    {
     "name": "stdout",
     "output_type": "stream",
     "text": [
      "<class 'list'>\n"
     ]
    }
   ],
   "source": [
    "print(type(data))"
   ]
  },
  {
   "cell_type": "code",
   "execution_count": 23,
   "id": "4e615101",
   "metadata": {},
   "outputs": [
    {
     "name": "stderr",
     "output_type": "stream",
     "text": [
      "C:\\Users\\kunal140\\AppData\\Local\\Temp\\ipykernel_14576\\97915332.py:4: DataOrientationWarning: Row orientation inferred during DataFrame construction. Explicitly specify the orientation by passing `orient=\"row\"` to silence this warning.\n",
      "  df = pl.DataFrame(data, schema={\"ID\": int, \"Name\": str, \"Age\": int}) # schema as Dictionary\n"
     ]
    }
   ],
   "source": [
    "import polars as pl\n",
    "\n",
    "data = [[1, 'Kunal', 25]]\n",
    "df = pl.DataFrame(data, schema={\"ID\": int, \"Name\": str, \"Age\": int}) # schema as Dictionary\n",
    "# df = pl.DataFrame(data, schema=[\"ID\", \"Name\", \"Age\"]) # schema as List where each element data type is decided by Polars"
   ]
  },
  {
   "cell_type": "code",
   "execution_count": 21,
   "id": "0e448b78",
   "metadata": {},
   "outputs": [
    {
     "data": {
      "text/html": [
       "<div><style>\n",
       ".dataframe > thead > tr,\n",
       ".dataframe > tbody > tr {\n",
       "  text-align: right;\n",
       "  white-space: pre-wrap;\n",
       "}\n",
       "</style>\n",
       "<small>shape: (1, 3)</small><table border=\"1\" class=\"dataframe\"><thead><tr><th>ID</th><th>Name</th><th>Age</th></tr><tr><td>i64</td><td>str</td><td>i64</td></tr></thead><tbody><tr><td>1</td><td>&quot;Kunal&quot;</td><td>25</td></tr></tbody></table></div>"
      ],
      "text/plain": [
       "shape: (1, 3)\n",
       "┌─────┬───────┬─────┐\n",
       "│ ID  ┆ Name  ┆ Age │\n",
       "│ --- ┆ ---   ┆ --- │\n",
       "│ i64 ┆ str   ┆ i64 │\n",
       "╞═════╪═══════╪═════╡\n",
       "│ 1   ┆ Kunal ┆ 25  │\n",
       "└─────┴───────┴─────┘"
      ]
     },
     "execution_count": 21,
     "metadata": {},
     "output_type": "execute_result"
    }
   ],
   "source": [
    "df"
   ]
  },
  {
   "cell_type": "code",
   "execution_count": 28,
   "id": "ddbfe4f3",
   "metadata": {},
   "outputs": [
    {
     "data": {
      "text/plain": [
       "polars.dataframe.frame.DataFrame"
      ]
     },
     "execution_count": 28,
     "metadata": {},
     "output_type": "execute_result"
    }
   ],
   "source": [
    "type(df)"
   ]
  },
  {
   "cell_type": "code",
   "execution_count": 29,
   "id": "54cc15e2",
   "metadata": {},
   "outputs": [
    {
     "data": {
      "text/plain": [
       "1"
      ]
     },
     "execution_count": 29,
     "metadata": {},
     "output_type": "execute_result"
    }
   ],
   "source": [
    "len(df)"
   ]
  },
  {
   "cell_type": "markdown",
   "id": "7f77047a",
   "metadata": {},
   "source": [
    "Creating Data variable using List And Dictionary"
   ]
  },
  {
   "cell_type": "code",
   "execution_count": 30,
   "id": "d901583d",
   "metadata": {},
   "outputs": [],
   "source": [
    "data = {\n",
    "    'Name': ['Kunal', 'John', 'Supriye', 'Sourav'],\n",
    "    'Age': [25, 30, 28, 22],\n",
    "    'Scores': [[90, 85, 88], [78, 82, 80], [95, 92, 89], [70, 75, 80]],\n",
    "    'Details': [{\n",
    "        'City': 'Delhi','Job': 'Software Engineer',\n",
    "        'Designation': 'Senior Developer'\n",
    "    },\n",
    "    {        'City': 'New York', 'Job': 'Data Scientist',\n",
    "        'Designation': 'Junior Data Analyst'\n",
    "    },\n",
    "    {        'City': 'London', 'Job': 'Data Analyst',\n",
    "        'Designation': 'Senior Data Analyst'\n",
    "    },\n",
    "    {        'City': 'San Francisco', 'Job': 'Product Manager',\n",
    "        'Designation': 'Senior Product Manager'\n",
    "    }]\n",
    "}"
   ]
  },
  {
   "cell_type": "markdown",
   "id": "9524823a",
   "metadata": {},
   "source": [
    "Creating Pandas DataFrame using Data variable\n",
    "\n",
    "Pandas is a powerful data manipulation library in Python that provides data structures like DataFrame for handling structured data."
   ]
  },
  {
   "cell_type": "code",
   "execution_count": 32,
   "id": "b063ef12",
   "metadata": {},
   "outputs": [],
   "source": [
    "import pandas as pd\n",
    "# create pandas DataFrame\n",
    "df_pandas = pd.DataFrame(data)"
   ]
  },
  {
   "cell_type": "code",
   "execution_count": 33,
   "id": "f1b593f5",
   "metadata": {},
   "outputs": [
    {
     "data": {
      "text/html": [
       "<div>\n",
       "<style scoped>\n",
       "    .dataframe tbody tr th:only-of-type {\n",
       "        vertical-align: middle;\n",
       "    }\n",
       "\n",
       "    .dataframe tbody tr th {\n",
       "        vertical-align: top;\n",
       "    }\n",
       "\n",
       "    .dataframe thead th {\n",
       "        text-align: right;\n",
       "    }\n",
       "</style>\n",
       "<table border=\"1\" class=\"dataframe\">\n",
       "  <thead>\n",
       "    <tr style=\"text-align: right;\">\n",
       "      <th></th>\n",
       "      <th>Name</th>\n",
       "      <th>Age</th>\n",
       "      <th>Scores</th>\n",
       "      <th>Details</th>\n",
       "    </tr>\n",
       "  </thead>\n",
       "  <tbody>\n",
       "    <tr>\n",
       "      <th>0</th>\n",
       "      <td>Kunal</td>\n",
       "      <td>25</td>\n",
       "      <td>[90, 85, 88]</td>\n",
       "      <td>{'City': 'Delhi', 'Job': 'Software Engineer', ...</td>\n",
       "    </tr>\n",
       "    <tr>\n",
       "      <th>1</th>\n",
       "      <td>John</td>\n",
       "      <td>30</td>\n",
       "      <td>[78, 82, 80]</td>\n",
       "      <td>{'City': 'New York', 'Job': 'Data Scientist', ...</td>\n",
       "    </tr>\n",
       "    <tr>\n",
       "      <th>2</th>\n",
       "      <td>Supriye</td>\n",
       "      <td>28</td>\n",
       "      <td>[95, 92, 89]</td>\n",
       "      <td>{'City': 'London', 'Job': 'Data Analyst', 'Des...</td>\n",
       "    </tr>\n",
       "    <tr>\n",
       "      <th>3</th>\n",
       "      <td>Sourav</td>\n",
       "      <td>22</td>\n",
       "      <td>[70, 75, 80]</td>\n",
       "      <td>{'City': 'San Francisco', 'Job': 'Product Mana...</td>\n",
       "    </tr>\n",
       "  </tbody>\n",
       "</table>\n",
       "</div>"
      ],
      "text/plain": [
       "      Name  ...                                            Details\n",
       "0    Kunal  ...  {'City': 'Delhi', 'Job': 'Software Engineer', ...\n",
       "1     John  ...  {'City': 'New York', 'Job': 'Data Scientist', ...\n",
       "2  Supriye  ...  {'City': 'London', 'Job': 'Data Analyst', 'Des...\n",
       "3   Sourav  ...  {'City': 'San Francisco', 'Job': 'Product Mana...\n",
       "\n",
       "[4 rows x 4 columns]"
      ]
     },
     "execution_count": 33,
     "metadata": {},
     "output_type": "execute_result"
    }
   ],
   "source": [
    "df_pandas"
   ]
  },
  {
   "cell_type": "code",
   "execution_count": 34,
   "id": "5a72166f",
   "metadata": {},
   "outputs": [
    {
     "data": {
      "text/plain": [
       "pandas.core.frame.DataFrame"
      ]
     },
     "execution_count": 34,
     "metadata": {},
     "output_type": "execute_result"
    }
   ],
   "source": [
    "type(df_pandas)"
   ]
  },
  {
   "cell_type": "markdown",
   "id": "03ac1aa6",
   "metadata": {},
   "source": [
    "Creating Polars DataFrame using Data variable\n",
    "\n",
    "Polars is another data manipulation library in Python that is designed for high performance and efficiency, especially with large datasets."
   ]
  },
  {
   "cell_type": "code",
   "execution_count": 37,
   "id": "27d4ef48",
   "metadata": {},
   "outputs": [],
   "source": [
    "import polars as pl\n",
    "# create polars DataFrame\n",
    "\n",
    "df_polars = pl.DataFrame(data)"
   ]
  },
  {
   "cell_type": "code",
   "execution_count": 36,
   "id": "f4e8b4c6",
   "metadata": {},
   "outputs": [
    {
     "data": {
      "text/html": [
       "<div><style>\n",
       ".dataframe > thead > tr,\n",
       ".dataframe > tbody > tr {\n",
       "  text-align: right;\n",
       "  white-space: pre-wrap;\n",
       "}\n",
       "</style>\n",
       "<small>shape: (4, 4)</small><table border=\"1\" class=\"dataframe\"><thead><tr><th>Name</th><th>Age</th><th>Scores</th><th>Details</th></tr><tr><td>str</td><td>i64</td><td>list[i64]</td><td>struct[3]</td></tr></thead><tbody><tr><td>&quot;Kunal&quot;</td><td>25</td><td>[90, 85, 88]</td><td>{&quot;Delhi&quot;,&quot;Software Engineer&quot;,&quot;Senior Developer&quot;}</td></tr><tr><td>&quot;John&quot;</td><td>30</td><td>[78, 82, 80]</td><td>{&quot;New York&quot;,&quot;Data Scientist&quot;,&quot;Junior Data Analyst&quot;}</td></tr><tr><td>&quot;Supriye&quot;</td><td>28</td><td>[95, 92, 89]</td><td>{&quot;London&quot;,&quot;Data Analyst&quot;,&quot;Senior Data Analyst&quot;}</td></tr><tr><td>&quot;Sourav&quot;</td><td>22</td><td>[70, 75, 80]</td><td>{&quot;San Francisco&quot;,&quot;Product Manager&quot;,&quot;Senior Product Manager&quot;}</td></tr></tbody></table></div>"
      ],
      "text/plain": [
       "shape: (4, 4)\n",
       "┌─────────┬─────┬──────────────┬─────────────────────────────────┐\n",
       "│ Name    ┆ Age ┆ Scores       ┆ Details                         │\n",
       "│ ---     ┆ --- ┆ ---          ┆ ---                             │\n",
       "│ str     ┆ i64 ┆ list[i64]    ┆ struct[3]                       │\n",
       "╞═════════╪═════╪══════════════╪═════════════════════════════════╡\n",
       "│ Kunal   ┆ 25  ┆ [90, 85, 88] ┆ {\"Delhi\",\"Software Engineer\",\"… │\n",
       "│ John    ┆ 30  ┆ [78, 82, 80] ┆ {\"New York\",\"Data Scientist\",\"… │\n",
       "│ Supriye ┆ 28  ┆ [95, 92, 89] ┆ {\"London\",\"Data Analyst\",\"Seni… │\n",
       "│ Sourav  ┆ 22  ┆ [70, 75, 80] ┆ {\"San Francisco\",\"Product Mana… │\n",
       "└─────────┴─────┴──────────────┴─────────────────────────────────┘"
      ]
     },
     "execution_count": 36,
     "metadata": {},
     "output_type": "execute_result"
    }
   ],
   "source": [
    "df_polars"
   ]
  },
  {
   "cell_type": "code",
   "execution_count": 38,
   "id": "ce43d9fc",
   "metadata": {},
   "outputs": [
    {
     "data": {
      "text/plain": [
       "polars.dataframe.frame.DataFrame"
      ]
     },
     "execution_count": 38,
     "metadata": {},
     "output_type": "execute_result"
    }
   ],
   "source": [
    "type(df_polars)"
   ]
  },
  {
   "cell_type": "markdown",
   "id": "3dfba88d",
   "metadata": {},
   "source": [
    "Convert Pandas DataFrame to Polars\n",
    "\n",
    "convert Pandas to Polars DataFrame using .from_pandas()"
   ]
  },
  {
   "cell_type": "code",
   "execution_count": 39,
   "id": "f12d057d",
   "metadata": {},
   "outputs": [],
   "source": [
    "df_polars_from_pandas = pl.from_pandas(df_pandas)"
   ]
  },
  {
   "cell_type": "code",
   "execution_count": 40,
   "id": "496155ca",
   "metadata": {},
   "outputs": [
    {
     "data": {
      "text/html": [
       "<div><style>\n",
       ".dataframe > thead > tr,\n",
       ".dataframe > tbody > tr {\n",
       "  text-align: right;\n",
       "  white-space: pre-wrap;\n",
       "}\n",
       "</style>\n",
       "<small>shape: (4, 4)</small><table border=\"1\" class=\"dataframe\"><thead><tr><th>Name</th><th>Age</th><th>Scores</th><th>Details</th></tr><tr><td>str</td><td>i64</td><td>list[i64]</td><td>struct[3]</td></tr></thead><tbody><tr><td>&quot;Kunal&quot;</td><td>25</td><td>[90, 85, 88]</td><td>{&quot;Delhi&quot;,&quot;Senior Developer&quot;,&quot;Software Engineer&quot;}</td></tr><tr><td>&quot;John&quot;</td><td>30</td><td>[78, 82, 80]</td><td>{&quot;New York&quot;,&quot;Junior Data Analyst&quot;,&quot;Data Scientist&quot;}</td></tr><tr><td>&quot;Supriye&quot;</td><td>28</td><td>[95, 92, 89]</td><td>{&quot;London&quot;,&quot;Senior Data Analyst&quot;,&quot;Data Analyst&quot;}</td></tr><tr><td>&quot;Sourav&quot;</td><td>22</td><td>[70, 75, 80]</td><td>{&quot;San Francisco&quot;,&quot;Senior Product Manager&quot;,&quot;Product Manager&quot;}</td></tr></tbody></table></div>"
      ],
      "text/plain": [
       "shape: (4, 4)\n",
       "┌─────────┬─────┬──────────────┬─────────────────────────────────┐\n",
       "│ Name    ┆ Age ┆ Scores       ┆ Details                         │\n",
       "│ ---     ┆ --- ┆ ---          ┆ ---                             │\n",
       "│ str     ┆ i64 ┆ list[i64]    ┆ struct[3]                       │\n",
       "╞═════════╪═════╪══════════════╪═════════════════════════════════╡\n",
       "│ Kunal   ┆ 25  ┆ [90, 85, 88] ┆ {\"Delhi\",\"Senior Developer\",\"S… │\n",
       "│ John    ┆ 30  ┆ [78, 82, 80] ┆ {\"New York\",\"Junior Data Analy… │\n",
       "│ Supriye ┆ 28  ┆ [95, 92, 89] ┆ {\"London\",\"Senior Data Analyst… │\n",
       "│ Sourav  ┆ 22  ┆ [70, 75, 80] ┆ {\"San Francisco\",\"Senior Produ… │\n",
       "└─────────┴─────┴──────────────┴─────────────────────────────────┘"
      ]
     },
     "execution_count": 40,
     "metadata": {},
     "output_type": "execute_result"
    }
   ],
   "source": [
    "df_polars_from_pandas"
   ]
  },
  {
   "cell_type": "code",
   "execution_count": 41,
   "id": "01f314f4",
   "metadata": {},
   "outputs": [
    {
     "data": {
      "text/plain": [
       "polars.dataframe.frame.DataFrame"
      ]
     },
     "execution_count": 41,
     "metadata": {},
     "output_type": "execute_result"
    }
   ],
   "source": [
    "type(df_polars_from_pandas)"
   ]
  },
  {
   "cell_type": "markdown",
   "id": "50a56f66",
   "metadata": {},
   "source": [
    "Convert Polars DataFrame to Pandas\n",
    "\n",
    "convert Polars to Pandas DataFrame using .to_pandas()"
   ]
  },
  {
   "cell_type": "code",
   "execution_count": 42,
   "id": "423d9623",
   "metadata": {},
   "outputs": [],
   "source": [
    "df_pandas_from_polars = df_polars.to_pandas()"
   ]
  },
  {
   "cell_type": "code",
   "execution_count": 43,
   "id": "cc7c039d",
   "metadata": {},
   "outputs": [
    {
     "data": {
      "text/html": [
       "<div><style>\n",
       ".dataframe > thead > tr,\n",
       ".dataframe > tbody > tr {\n",
       "  text-align: right;\n",
       "  white-space: pre-wrap;\n",
       "}\n",
       "</style>\n",
       "<small>shape: (4, 4)</small><table border=\"1\" class=\"dataframe\"><thead><tr><th>Name</th><th>Age</th><th>Scores</th><th>Details</th></tr><tr><td>str</td><td>i64</td><td>list[i64]</td><td>struct[3]</td></tr></thead><tbody><tr><td>&quot;Kunal&quot;</td><td>25</td><td>[90, 85, 88]</td><td>{&quot;Delhi&quot;,&quot;Senior Developer&quot;,&quot;Software Engineer&quot;}</td></tr><tr><td>&quot;John&quot;</td><td>30</td><td>[78, 82, 80]</td><td>{&quot;New York&quot;,&quot;Junior Data Analyst&quot;,&quot;Data Scientist&quot;}</td></tr><tr><td>&quot;Supriye&quot;</td><td>28</td><td>[95, 92, 89]</td><td>{&quot;London&quot;,&quot;Senior Data Analyst&quot;,&quot;Data Analyst&quot;}</td></tr><tr><td>&quot;Sourav&quot;</td><td>22</td><td>[70, 75, 80]</td><td>{&quot;San Francisco&quot;,&quot;Senior Product Manager&quot;,&quot;Product Manager&quot;}</td></tr></tbody></table></div>"
      ],
      "text/plain": [
       "shape: (4, 4)\n",
       "┌─────────┬─────┬──────────────┬─────────────────────────────────┐\n",
       "│ Name    ┆ Age ┆ Scores       ┆ Details                         │\n",
       "│ ---     ┆ --- ┆ ---          ┆ ---                             │\n",
       "│ str     ┆ i64 ┆ list[i64]    ┆ struct[3]                       │\n",
       "╞═════════╪═════╪══════════════╪═════════════════════════════════╡\n",
       "│ Kunal   ┆ 25  ┆ [90, 85, 88] ┆ {\"Delhi\",\"Senior Developer\",\"S… │\n",
       "│ John    ┆ 30  ┆ [78, 82, 80] ┆ {\"New York\",\"Junior Data Analy… │\n",
       "│ Supriye ┆ 28  ┆ [95, 92, 89] ┆ {\"London\",\"Senior Data Analyst… │\n",
       "│ Sourav  ┆ 22  ┆ [70, 75, 80] ┆ {\"San Francisco\",\"Senior Produ… │\n",
       "└─────────┴─────┴──────────────┴─────────────────────────────────┘"
      ]
     },
     "execution_count": 43,
     "metadata": {},
     "output_type": "execute_result"
    }
   ],
   "source": [
    "df_polars_from_pandas"
   ]
  },
  {
   "cell_type": "code",
   "execution_count": 44,
   "id": "2a2d4109",
   "metadata": {},
   "outputs": [
    {
     "data": {
      "text/plain": [
       "pandas.core.frame.DataFrame"
      ]
     },
     "execution_count": 44,
     "metadata": {},
     "output_type": "execute_result"
    }
   ],
   "source": [
    "type(df_pandas_from_polars)"
   ]
  },
  {
   "cell_type": "markdown",
   "id": "18ab445e",
   "metadata": {},
   "source": [
    "Understanding Lazy Mode in Polars\n",
    "Introduction\n",
    "\n",
    "Imagine you have a giant pile of books, and you need to find all books written by a specific author. If you start picking up each book one by one, checking the author’s name, and then putting it back, this would take a lot of time. But what if, instead, you first make a plan: “I will only look at books from the ‘Authors A-Z’ section, and I will filter only those books whose covers mention the author’s name”? That would be much faster and more efficient!\n",
    "\n",
    "This is exactly how lazy mode in Polars works—it delays execution and optimizes queries before actually processing them.\n",
    "\n",
    "\n",
    "\n",
    "What is Lazy Mode?\n",
    "\n",
    "Lazy mode in Polars is a way of handling data where computations are not executed immediately. Instead, Polars waits until all operations are defined before executing them in the most efficient way possible.\n",
    "\n",
    "\n",
    "\n",
    "How Lazy Mode Works\n",
    "\n",
    "\n",
    "\n",
    "Build a Query Plan: Instead of executing operations one by one, Polars first records what needs to be done.\n",
    "\n",
    "Optimize the Plan: Polars rearranges and optimizes the steps to reduce unnecessary work.\n",
    "\n",
    "Execute Efficiently: Only when needed, Polars runs the optimized query.\n",
    "\n",
    "Example: Lazy Mode"
   ]
  },
  {
   "cell_type": "code",
   "execution_count": 1,
   "id": "4b83c3e3",
   "metadata": {},
   "outputs": [
    {
     "name": "stdout",
     "output_type": "stream",
     "text": [
      "shape: (2, 2)\n",
      "┌─────────┬─────┐\n",
      "│ name    ┆ age │\n",
      "│ ---     ┆ --- │\n",
      "│ str     ┆ i64 │\n",
      "╞═════════╪═════╡\n",
      "│ Bob     ┆ 30  │\n",
      "│ Charlie ┆ 35  │\n",
      "└─────────┴─────┘\n"
     ]
    }
   ],
   "source": [
    "import polars as pl \n",
    "df = pl.DataFrame({\"name\": [\"Alice\", \"Bob\", \"Charlie\"], \"age\": [25, 30, 35]})\n",
    "lazy_df = df.lazy() # Convert to lazy mode \n",
    "filtered_lazy_df = lazy_df.filter(pl.col(\"age\") > 28) # No execution yet! \n",
    "result = filtered_lazy_df.collect() \n",
    "print(result)"
   ]
  },
  {
   "cell_type": "markdown",
   "id": "4d034dc0",
   "metadata": {},
   "source": [
    "Nothing runs until .collect() is called, allowing Polars to optimize the query."
   ]
  },
  {
   "cell_type": "markdown",
   "id": "a104ef87",
   "metadata": {},
   "source": [
    "Why Use Lazy Mode?\n",
    "\n",
    "\n",
    "\n",
    "Faster Execution: Polars avoids unnecessary computations, making it faster for large datasets.\n",
    "\n",
    "Better Memory Management: It processes data in chunks instead of keeping everything in memory.\n",
    "\n",
    "Smart Query Optimization: It can rearrange operations for better efficiency, like pushing filters earlier to reduce the amount of data processed.\n",
    "\n",
    "When to Use Lazy Mode?\n",
    "\n",
    "\n",
    "\n",
    "Working with large datasets (millions or billions of rows).\n",
    "\n",
    "Running complex queries involving multiple operations.\n",
    "\n",
    "Needing efficient memory usage to avoid crashes.\n",
    "\n",
    "Conclusion\n",
    "\n",
    "Lazy mode in Polars is like planning a task before doing it—it makes execution faster and more efficient. Instead of performing every step immediately, Polars waits, optimizes, and then executes everything in the best way possible. This makes it an excellent choice for big data processing."
   ]
  }
 ],
 "metadata": {
  "kernelspec": {
   "display_name": "polars_env",
   "language": "python",
   "name": "python3"
  },
  "language_info": {
   "codemirror_mode": {
    "name": "ipython",
    "version": 3
   },
   "file_extension": ".py",
   "mimetype": "text/x-python",
   "name": "python",
   "nbconvert_exporter": "python",
   "pygments_lexer": "ipython3",
   "version": "3.13.5"
  }
 },
 "nbformat": 4,
 "nbformat_minor": 5
}
